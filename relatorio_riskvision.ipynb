{
 "cells": [
  {
   "cell_type": "markdown",
   "metadata": {},
   "source": [
    "# Yfinance"
   ]
  },
  {
   "cell_type": "markdown",
   "metadata": {},
   "source": [
    "### 1. Importacao das bibliotecas"
   ]
  },
  {
   "cell_type": "code",
   "execution_count": 1,
   "metadata": {},
   "outputs": [],
   "source": [
    "import yfinance as yf\n",
    "import pandas as pd\n",
    "import finnhub\n",
    "ticker = yf.Ticker(\"AAPL\")\n"
   ]
  },
  {
   "cell_type": "markdown",
   "metadata": {},
   "source": [
    "### 2. Historico de preços"
   ]
  },
  {
   "cell_type": "code",
   "execution_count": 2,
   "metadata": {},
   "outputs": [
    {
     "name": "stdout",
     "output_type": "stream",
     "text": [
      "Histórico de preços (head):\n"
     ]
    },
    {
     "data": {
      "text/html": [
       "<div>\n",
       "<style scoped>\n",
       "    .dataframe tbody tr th:only-of-type {\n",
       "        vertical-align: middle;\n",
       "    }\n",
       "\n",
       "    .dataframe tbody tr th {\n",
       "        vertical-align: top;\n",
       "    }\n",
       "\n",
       "    .dataframe thead th {\n",
       "        text-align: right;\n",
       "    }\n",
       "</style>\n",
       "<table border=\"1\" class=\"dataframe\">\n",
       "  <thead>\n",
       "    <tr style=\"text-align: right;\">\n",
       "      <th></th>\n",
       "      <th>Open</th>\n",
       "      <th>High</th>\n",
       "      <th>Low</th>\n",
       "      <th>Close</th>\n",
       "      <th>Volume</th>\n",
       "      <th>Dividends</th>\n",
       "      <th>Stock Splits</th>\n",
       "    </tr>\n",
       "    <tr>\n",
       "      <th>Date</th>\n",
       "      <th></th>\n",
       "      <th></th>\n",
       "      <th></th>\n",
       "      <th></th>\n",
       "      <th></th>\n",
       "      <th></th>\n",
       "      <th></th>\n",
       "    </tr>\n",
       "  </thead>\n",
       "  <tbody>\n",
       "    <tr>\n",
       "      <th>2025-08-11 00:00:00-04:00</th>\n",
       "      <td>227.919998</td>\n",
       "      <td>229.559998</td>\n",
       "      <td>224.759995</td>\n",
       "      <td>227.179993</td>\n",
       "      <td>61806100</td>\n",
       "      <td>0.26</td>\n",
       "      <td>0.0</td>\n",
       "    </tr>\n",
       "    <tr>\n",
       "      <th>2025-08-12 00:00:00-04:00</th>\n",
       "      <td>228.009995</td>\n",
       "      <td>230.800003</td>\n",
       "      <td>227.070007</td>\n",
       "      <td>229.649994</td>\n",
       "      <td>55626200</td>\n",
       "      <td>0.00</td>\n",
       "      <td>0.0</td>\n",
       "    </tr>\n",
       "    <tr>\n",
       "      <th>2025-08-13 00:00:00-04:00</th>\n",
       "      <td>231.070007</td>\n",
       "      <td>235.000000</td>\n",
       "      <td>230.429993</td>\n",
       "      <td>233.330002</td>\n",
       "      <td>69878500</td>\n",
       "      <td>0.00</td>\n",
       "      <td>0.0</td>\n",
       "    </tr>\n",
       "    <tr>\n",
       "      <th>2025-08-14 00:00:00-04:00</th>\n",
       "      <td>234.059998</td>\n",
       "      <td>235.119995</td>\n",
       "      <td>230.850006</td>\n",
       "      <td>232.779999</td>\n",
       "      <td>51916300</td>\n",
       "      <td>0.00</td>\n",
       "      <td>0.0</td>\n",
       "    </tr>\n",
       "    <tr>\n",
       "      <th>2025-08-15 00:00:00-04:00</th>\n",
       "      <td>234.000000</td>\n",
       "      <td>234.279999</td>\n",
       "      <td>229.339996</td>\n",
       "      <td>231.589996</td>\n",
       "      <td>56038700</td>\n",
       "      <td>0.00</td>\n",
       "      <td>0.0</td>\n",
       "    </tr>\n",
       "  </tbody>\n",
       "</table>\n",
       "</div>"
      ],
      "text/plain": [
       "                                 Open        High         Low       Close  \\\n",
       "Date                                                                        \n",
       "2025-08-11 00:00:00-04:00  227.919998  229.559998  224.759995  227.179993   \n",
       "2025-08-12 00:00:00-04:00  228.009995  230.800003  227.070007  229.649994   \n",
       "2025-08-13 00:00:00-04:00  231.070007  235.000000  230.429993  233.330002   \n",
       "2025-08-14 00:00:00-04:00  234.059998  235.119995  230.850006  232.779999   \n",
       "2025-08-15 00:00:00-04:00  234.000000  234.279999  229.339996  231.589996   \n",
       "\n",
       "                             Volume  Dividends  Stock Splits  \n",
       "Date                                                          \n",
       "2025-08-11 00:00:00-04:00  61806100       0.26           0.0  \n",
       "2025-08-12 00:00:00-04:00  55626200       0.00           0.0  \n",
       "2025-08-13 00:00:00-04:00  69878500       0.00           0.0  \n",
       "2025-08-14 00:00:00-04:00  51916300       0.00           0.0  \n",
       "2025-08-15 00:00:00-04:00  56038700       0.00           0.0  "
      ]
     },
     "metadata": {},
     "output_type": "display_data"
    },
    {
     "name": "stdout",
     "output_type": "stream",
     "text": [
      "\n",
      "Tipos de dados:\n",
      "Open            float64\n",
      "High            float64\n",
      "Low             float64\n",
      "Close           float64\n",
      "Volume            int64\n",
      "Dividends       float64\n",
      "Stock Splits    float64\n",
      "dtype: object\n"
     ]
    }
   ],
   "source": [
    "# Histórico de preços (último mês)\n",
    "historico = ticker.history(period=\"1mo\")\n",
    "print(\"Histórico de preços (head):\")\n",
    "display(historico.head())\n",
    "\n",
    "print(\"\\nTipos de dados:\")\n",
    "print(historico.dtypes)\n"
   ]
  },
  {
   "cell_type": "markdown",
   "metadata": {},
   "source": [
    "### 3. Informacoes gerais"
   ]
  },
  {
   "cell_type": "code",
   "execution_count": 3,
   "metadata": {},
   "outputs": [
    {
     "name": "stdout",
     "output_type": "stream",
     "text": [
      "Exemplo de dados do .info:\n",
      "\n",
      "address1: One Apple Park Way -> <class 'str'>\n",
      "city: Cupertino -> <class 'str'>\n",
      "state: CA -> <class 'str'>\n",
      "zip: 95014 -> <class 'str'>\n",
      "country: United States -> <class 'str'>\n",
      "phone: (408) 996-1010 -> <class 'str'>\n",
      "website: https://www.apple.com -> <class 'str'>\n",
      "industry: Consumer Electronics -> <class 'str'>\n",
      "industryKey: consumer-electronics -> <class 'str'>\n",
      "industryDisp: Consumer Electronics -> <class 'str'>\n",
      "sector: Technology -> <class 'str'>\n",
      "sectorKey: technology -> <class 'str'>\n",
      "sectorDisp: Technology -> <class 'str'>\n",
      "longBusinessSummary: Apple Inc. designs, manufactures, and markets smartphones, personal computers, tablets, wearables, and accessories worldwide. The company offers iPhone, a line of smartphones; Mac, a line of personal computers; iPad, a line of multi-purpose tablets; and wearables, home, and accessories comprising AirPods, Apple TV, Apple Watch, Beats products, and HomePod. It also provides AppleCare support and cloud services; and operates various platforms, including the App Store that allow customers to discover and download applications and digital content, such as books, music, video, games, and podcasts, as well as advertising services include third-party licensing arrangements and its own advertising platforms. In addition, the company offers various subscription-based services, such as Apple Arcade, a game subscription service; Apple Fitness+, a personalized fitness service; Apple Music, which offers users a curated listening experience with on-demand radio stations; Apple News+, a subscription news and magazine service; Apple TV+, which offers exclusive original content; Apple Card, a co-branded credit card; and Apple Pay, a cashless payment service, as well as licenses its intellectual property. The company serves consumers, and small and mid-sized businesses; and the education, enterprise, and government markets. It distributes third-party applications for its products through the App Store. The company also sells its products through its retail and online stores, and direct sales force; and third-party cellular network carriers, wholesalers, retailers, and resellers. Apple Inc. was founded in 1976 and is headquartered in Cupertino, California. -> <class 'str'>\n",
      "fullTimeEmployees: 150000 -> <class 'int'>\n"
     ]
    }
   ],
   "source": [
    "info = ticker.info\n",
    "\n",
    "# Mostrar apenas algumas chaves para não poluir\n",
    "print(\"Exemplo de dados do .info:\\n\")\n",
    "for k, v in list(info.items())[:15]:\n",
    "    print(f\"{k}: {v} -> {type(v)}\")\n"
   ]
  },
  {
   "cell_type": "markdown",
   "metadata": {},
   "source": [
    "### 4. Dividendos e Splits"
   ]
  },
  {
   "cell_type": "code",
   "execution_count": 4,
   "metadata": {},
   "outputs": [
    {
     "name": "stdout",
     "output_type": "stream",
     "text": [
      "Dividendos:\n"
     ]
    },
    {
     "data": {
      "text/plain": [
       "Date\n",
       "1987-05-11 00:00:00-04:00    0.000536\n",
       "1987-08-10 00:00:00-04:00    0.000536\n",
       "1987-11-17 00:00:00-05:00    0.000714\n",
       "1988-02-12 00:00:00-05:00    0.000714\n",
       "1988-05-16 00:00:00-04:00    0.000714\n",
       "Name: Dividends, dtype: float64"
      ]
     },
     "metadata": {},
     "output_type": "display_data"
    },
    {
     "name": "stdout",
     "output_type": "stream",
     "text": [
      "Tipos: float64\n",
      "\n",
      "Splits:\n"
     ]
    },
    {
     "data": {
      "text/plain": [
       "Date\n",
       "1987-06-16 00:00:00-04:00    2.0\n",
       "2000-06-21 00:00:00-04:00    2.0\n",
       "2005-02-28 00:00:00-05:00    2.0\n",
       "2014-06-09 00:00:00-04:00    7.0\n",
       "2020-08-31 00:00:00-04:00    4.0\n",
       "Name: Stock Splits, dtype: float64"
      ]
     },
     "metadata": {},
     "output_type": "display_data"
    },
    {
     "name": "stdout",
     "output_type": "stream",
     "text": [
      "Tipos: float64\n"
     ]
    }
   ],
   "source": [
    "print(\"Dividendos:\")\n",
    "display(ticker.dividends.head())\n",
    "print(\"Tipos:\", ticker.dividends.dtypes)\n",
    "\n",
    "print(\"\\nSplits:\")\n",
    "display(ticker.splits.head())\n",
    "print(\"Tipos:\", ticker.splits.dtypes)\n"
   ]
  },
  {
   "cell_type": "markdown",
   "metadata": {},
   "source": [
    "### 5. Calendario de Eventos"
   ]
  },
  {
   "cell_type": "code",
   "execution_count": 5,
   "metadata": {},
   "outputs": [
    {
     "name": "stdout",
     "output_type": "stream",
     "text": [
      "Calendário de eventos:\n"
     ]
    },
    {
     "data": {
      "text/html": [
       "<div>\n",
       "<style scoped>\n",
       "    .dataframe tbody tr th:only-of-type {\n",
       "        vertical-align: middle;\n",
       "    }\n",
       "\n",
       "    .dataframe tbody tr th {\n",
       "        vertical-align: top;\n",
       "    }\n",
       "\n",
       "    .dataframe thead th {\n",
       "        text-align: right;\n",
       "    }\n",
       "</style>\n",
       "<table border=\"1\" class=\"dataframe\">\n",
       "  <thead>\n",
       "    <tr style=\"text-align: right;\">\n",
       "      <th></th>\n",
       "      <th>Dividend Date</th>\n",
       "      <th>Ex-Dividend Date</th>\n",
       "      <th>Earnings Date</th>\n",
       "      <th>Earnings High</th>\n",
       "      <th>Earnings Low</th>\n",
       "      <th>Earnings Average</th>\n",
       "      <th>Revenue High</th>\n",
       "      <th>Revenue Low</th>\n",
       "      <th>Revenue Average</th>\n",
       "    </tr>\n",
       "  </thead>\n",
       "  <tbody>\n",
       "    <tr>\n",
       "      <th>0</th>\n",
       "      <td>2025-08-13</td>\n",
       "      <td>2025-08-10</td>\n",
       "      <td>2025-10-30</td>\n",
       "      <td>1.82</td>\n",
       "      <td>1.65</td>\n",
       "      <td>1.76302</td>\n",
       "      <td>103345000000</td>\n",
       "      <td>96379000000</td>\n",
       "      <td>101505054360</td>\n",
       "    </tr>\n",
       "  </tbody>\n",
       "</table>\n",
       "</div>"
      ],
      "text/plain": [
       "  Dividend Date Ex-Dividend Date Earnings Date  Earnings High  Earnings Low  \\\n",
       "0    2025-08-13       2025-08-10    2025-10-30           1.82          1.65   \n",
       "\n",
       "   Earnings Average  Revenue High  Revenue Low  Revenue Average  \n",
       "0           1.76302  103345000000  96379000000     101505054360  "
      ]
     },
     "metadata": {},
     "output_type": "display_data"
    },
    {
     "name": "stdout",
     "output_type": "stream",
     "text": [
      "\n",
      "Tipos de dados:\n",
      "Dividend Date        object\n",
      "Ex-Dividend Date     object\n",
      "Earnings Date        object\n",
      "Earnings High       float64\n",
      "Earnings Low        float64\n",
      "Earnings Average    float64\n",
      "Revenue High          int64\n",
      "Revenue Low           int64\n",
      "Revenue Average       int64\n",
      "dtype: object\n"
     ]
    }
   ],
   "source": [
    "print(\"Calendário de eventos:\")\n",
    "\n",
    "calendar = ticker.calendar\n",
    "\n",
    "if isinstance(calendar, dict):\n",
    "    calendar = pd.DataFrame(calendar)\n",
    "\n",
    "display(calendar)\n",
    "\n",
    "print(\"\\nTipos de dados:\")\n",
    "print(calendar.dtypes)\n"
   ]
  },
  {
   "cell_type": "markdown",
   "metadata": {},
   "source": [
    "### 6. Recomendacao de analistas"
   ]
  },
  {
   "cell_type": "code",
   "execution_count": 6,
   "metadata": {},
   "outputs": [
    {
     "name": "stdout",
     "output_type": "stream",
     "text": [
      "Recomendações de analistas:\n"
     ]
    },
    {
     "data": {
      "text/html": [
       "<div>\n",
       "<style scoped>\n",
       "    .dataframe tbody tr th:only-of-type {\n",
       "        vertical-align: middle;\n",
       "    }\n",
       "\n",
       "    .dataframe tbody tr th {\n",
       "        vertical-align: top;\n",
       "    }\n",
       "\n",
       "    .dataframe thead th {\n",
       "        text-align: right;\n",
       "    }\n",
       "</style>\n",
       "<table border=\"1\" class=\"dataframe\">\n",
       "  <thead>\n",
       "    <tr style=\"text-align: right;\">\n",
       "      <th></th>\n",
       "      <th>period</th>\n",
       "      <th>strongBuy</th>\n",
       "      <th>buy</th>\n",
       "      <th>hold</th>\n",
       "      <th>sell</th>\n",
       "      <th>strongSell</th>\n",
       "    </tr>\n",
       "  </thead>\n",
       "  <tbody>\n",
       "    <tr>\n",
       "      <th>0</th>\n",
       "      <td>0m</td>\n",
       "      <td>5</td>\n",
       "      <td>23</td>\n",
       "      <td>14</td>\n",
       "      <td>1</td>\n",
       "      <td>2</td>\n",
       "    </tr>\n",
       "    <tr>\n",
       "      <th>1</th>\n",
       "      <td>-1m</td>\n",
       "      <td>5</td>\n",
       "      <td>22</td>\n",
       "      <td>15</td>\n",
       "      <td>1</td>\n",
       "      <td>1</td>\n",
       "    </tr>\n",
       "    <tr>\n",
       "      <th>2</th>\n",
       "      <td>-2m</td>\n",
       "      <td>5</td>\n",
       "      <td>23</td>\n",
       "      <td>15</td>\n",
       "      <td>1</td>\n",
       "      <td>1</td>\n",
       "    </tr>\n",
       "    <tr>\n",
       "      <th>3</th>\n",
       "      <td>-3m</td>\n",
       "      <td>6</td>\n",
       "      <td>22</td>\n",
       "      <td>16</td>\n",
       "      <td>2</td>\n",
       "      <td>1</td>\n",
       "    </tr>\n",
       "  </tbody>\n",
       "</table>\n",
       "</div>"
      ],
      "text/plain": [
       "  period  strongBuy  buy  hold  sell  strongSell\n",
       "0     0m          5   23    14     1           2\n",
       "1    -1m          5   22    15     1           1\n",
       "2    -2m          5   23    15     1           1\n",
       "3    -3m          6   22    16     2           1"
      ]
     },
     "metadata": {},
     "output_type": "display_data"
    },
    {
     "name": "stdout",
     "output_type": "stream",
     "text": [
      "\n",
      "Tipos de dados:\n",
      "period        object\n",
      "strongBuy      int64\n",
      "buy            int64\n",
      "hold           int64\n",
      "sell           int64\n",
      "strongSell     int64\n",
      "dtype: object\n"
     ]
    }
   ],
   "source": [
    "print(\"Recomendações de analistas:\")\n",
    "display(ticker.recommendations.tail())\n",
    "print(\"\\nTipos de dados:\")\n",
    "print(ticker.recommendations.dtypes)\n"
   ]
  },
  {
   "cell_type": "markdown",
   "metadata": {},
   "source": [
    "### 7. Dados Financeiros"
   ]
  },
  {
   "cell_type": "code",
   "execution_count": 7,
   "metadata": {},
   "outputs": [
    {
     "name": "stdout",
     "output_type": "stream",
     "text": [
      "Lucros anuais (financials):\n"
     ]
    },
    {
     "data": {
      "text/html": [
       "<div>\n",
       "<style scoped>\n",
       "    .dataframe tbody tr th:only-of-type {\n",
       "        vertical-align: middle;\n",
       "    }\n",
       "\n",
       "    .dataframe tbody tr th {\n",
       "        vertical-align: top;\n",
       "    }\n",
       "\n",
       "    .dataframe thead th {\n",
       "        text-align: right;\n",
       "    }\n",
       "</style>\n",
       "<table border=\"1\" class=\"dataframe\">\n",
       "  <thead>\n",
       "    <tr style=\"text-align: right;\">\n",
       "      <th></th>\n",
       "      <th>2024-09-30</th>\n",
       "      <th>2023-09-30</th>\n",
       "      <th>2022-09-30</th>\n",
       "      <th>2021-09-30</th>\n",
       "      <th>2020-09-30</th>\n",
       "    </tr>\n",
       "  </thead>\n",
       "  <tbody>\n",
       "    <tr>\n",
       "      <th>Tax Effect Of Unusual Items</th>\n",
       "      <td>0.000000e+00</td>\n",
       "      <td>0.000000e+00</td>\n",
       "      <td>0.000000e+00</td>\n",
       "      <td>0.000000e+00</td>\n",
       "      <td>NaN</td>\n",
       "    </tr>\n",
       "    <tr>\n",
       "      <th>Tax Rate For Calcs</th>\n",
       "      <td>2.410000e-01</td>\n",
       "      <td>1.470000e-01</td>\n",
       "      <td>1.620000e-01</td>\n",
       "      <td>1.330000e-01</td>\n",
       "      <td>NaN</td>\n",
       "    </tr>\n",
       "    <tr>\n",
       "      <th>Normalized EBITDA</th>\n",
       "      <td>1.346610e+11</td>\n",
       "      <td>1.258200e+11</td>\n",
       "      <td>1.305410e+11</td>\n",
       "      <td>1.231360e+11</td>\n",
       "      <td>NaN</td>\n",
       "    </tr>\n",
       "    <tr>\n",
       "      <th>Net Income From Continuing Operation Net Minority Interest</th>\n",
       "      <td>9.373600e+10</td>\n",
       "      <td>9.699500e+10</td>\n",
       "      <td>9.980300e+10</td>\n",
       "      <td>9.468000e+10</td>\n",
       "      <td>NaN</td>\n",
       "    </tr>\n",
       "    <tr>\n",
       "      <th>Reconciled Depreciation</th>\n",
       "      <td>1.144500e+10</td>\n",
       "      <td>1.151900e+10</td>\n",
       "      <td>1.110400e+10</td>\n",
       "      <td>1.128400e+10</td>\n",
       "      <td>NaN</td>\n",
       "    </tr>\n",
       "  </tbody>\n",
       "</table>\n",
       "</div>"
      ],
      "text/plain": [
       "                                                      2024-09-30  \\\n",
       "Tax Effect Of Unusual Items                         0.000000e+00   \n",
       "Tax Rate For Calcs                                  2.410000e-01   \n",
       "Normalized EBITDA                                   1.346610e+11   \n",
       "Net Income From Continuing Operation Net Minori...  9.373600e+10   \n",
       "Reconciled Depreciation                             1.144500e+10   \n",
       "\n",
       "                                                      2023-09-30  \\\n",
       "Tax Effect Of Unusual Items                         0.000000e+00   \n",
       "Tax Rate For Calcs                                  1.470000e-01   \n",
       "Normalized EBITDA                                   1.258200e+11   \n",
       "Net Income From Continuing Operation Net Minori...  9.699500e+10   \n",
       "Reconciled Depreciation                             1.151900e+10   \n",
       "\n",
       "                                                      2022-09-30  \\\n",
       "Tax Effect Of Unusual Items                         0.000000e+00   \n",
       "Tax Rate For Calcs                                  1.620000e-01   \n",
       "Normalized EBITDA                                   1.305410e+11   \n",
       "Net Income From Continuing Operation Net Minori...  9.980300e+10   \n",
       "Reconciled Depreciation                             1.110400e+10   \n",
       "\n",
       "                                                      2021-09-30  2020-09-30  \n",
       "Tax Effect Of Unusual Items                         0.000000e+00         NaN  \n",
       "Tax Rate For Calcs                                  1.330000e-01         NaN  \n",
       "Normalized EBITDA                                   1.231360e+11         NaN  \n",
       "Net Income From Continuing Operation Net Minori...  9.468000e+10         NaN  \n",
       "Reconciled Depreciation                             1.128400e+10         NaN  "
      ]
     },
     "metadata": {},
     "output_type": "display_data"
    },
    {
     "name": "stdout",
     "output_type": "stream",
     "text": [
      "\n",
      "Tipos de dados:\n",
      "2024-09-30    float64\n",
      "2023-09-30    float64\n",
      "2022-09-30    float64\n",
      "2021-09-30    float64\n",
      "2020-09-30    float64\n",
      "dtype: object\n"
     ]
    }
   ],
   "source": [
    "print(\"Lucros anuais (financials):\")\n",
    "display(ticker.financials.head())\n",
    "\n",
    "print(\"\\nTipos de dados:\")\n",
    "print(ticker.financials.dtypes)\n"
   ]
  },
  {
   "cell_type": "markdown",
   "metadata": {},
   "source": [
    "### 8. Resumo dos dados"
   ]
  },
  {
   "cell_type": "code",
   "execution_count": 8,
   "metadata": {},
   "outputs": [
    {
     "name": "stdout",
     "output_type": "stream",
     "text": [
      "Resumo dos tipos de dados no yfinance:\n"
     ]
    },
    {
     "data": {
      "text/html": [
       "<div>\n",
       "<style scoped>\n",
       "    .dataframe tbody tr th:only-of-type {\n",
       "        vertical-align: middle;\n",
       "    }\n",
       "\n",
       "    .dataframe tbody tr th {\n",
       "        vertical-align: top;\n",
       "    }\n",
       "\n",
       "    .dataframe thead th {\n",
       "        text-align: right;\n",
       "    }\n",
       "</style>\n",
       "<table border=\"1\" class=\"dataframe\">\n",
       "  <thead>\n",
       "    <tr style=\"text-align: right;\">\n",
       "      <th></th>\n",
       "      <th>Origem</th>\n",
       "      <th>Retorno Principal</th>\n",
       "      <th>Tipos de dados</th>\n",
       "    </tr>\n",
       "  </thead>\n",
       "  <tbody>\n",
       "    <tr>\n",
       "      <th>0</th>\n",
       "      <td>history</td>\n",
       "      <td>DataFrame</td>\n",
       "      <td>float64, int64, datetime64</td>\n",
       "    </tr>\n",
       "    <tr>\n",
       "      <th>1</th>\n",
       "      <td>info</td>\n",
       "      <td>dict</td>\n",
       "      <td>str, float, int, bool, None</td>\n",
       "    </tr>\n",
       "    <tr>\n",
       "      <th>2</th>\n",
       "      <td>dividends</td>\n",
       "      <td>Series</td>\n",
       "      <td>float64, datetime64</td>\n",
       "    </tr>\n",
       "    <tr>\n",
       "      <th>3</th>\n",
       "      <td>splits</td>\n",
       "      <td>Series</td>\n",
       "      <td>int64, datetime64</td>\n",
       "    </tr>\n",
       "    <tr>\n",
       "      <th>4</th>\n",
       "      <td>calendar</td>\n",
       "      <td>DataFrame</td>\n",
       "      <td>datetime64</td>\n",
       "    </tr>\n",
       "    <tr>\n",
       "      <th>5</th>\n",
       "      <td>recommendations</td>\n",
       "      <td>DataFrame</td>\n",
       "      <td>str, datetime64</td>\n",
       "    </tr>\n",
       "    <tr>\n",
       "      <th>6</th>\n",
       "      <td>financials</td>\n",
       "      <td>DataFrame</td>\n",
       "      <td>float64, datetime64</td>\n",
       "    </tr>\n",
       "  </tbody>\n",
       "</table>\n",
       "</div>"
      ],
      "text/plain": [
       "            Origem Retorno Principal               Tipos de dados\n",
       "0          history         DataFrame   float64, int64, datetime64\n",
       "1             info              dict  str, float, int, bool, None\n",
       "2        dividends            Series          float64, datetime64\n",
       "3           splits            Series            int64, datetime64\n",
       "4         calendar         DataFrame                   datetime64\n",
       "5  recommendations         DataFrame              str, datetime64\n",
       "6       financials         DataFrame          float64, datetime64"
      ]
     },
     "metadata": {},
     "output_type": "display_data"
    }
   ],
   "source": [
    "resumo = pd.DataFrame({\n",
    "    \"Origem\": [\n",
    "        \"history\", \"info\", \"dividends\", \"splits\", \"calendar\", \"recommendations\", \"financials\"\n",
    "    ],\n",
    "    \"Retorno Principal\": [\n",
    "        \"DataFrame\", \"dict\", \"Series\", \"Series\", \"DataFrame\", \"DataFrame\", \"DataFrame\"\n",
    "    ],\n",
    "    \"Tipos de dados\": [\n",
    "        \"float64, int64, datetime64\",\n",
    "        \"str, float, int, bool, None\",\n",
    "        \"float64, datetime64\",\n",
    "        \"int64, datetime64\",\n",
    "        \"datetime64\",\n",
    "        \"str, datetime64\",\n",
    "        \"float64, datetime64\"\n",
    "    ]\n",
    "})\n",
    "\n",
    "print(\"Resumo dos tipos de dados no yfinance:\")\n",
    "display(resumo)\n"
   ]
  },
  {
   "cell_type": "markdown",
   "metadata": {},
   "source": [
    "| Tipo (`dtype`) | Onde aparece no yfinance    | Exemplo                        | Uso no ML               |\n",
    "| -------------- | --------------------------- | ------------------------------ | ----------------------- |\n",
    "| `float64`      | Preços, indicadores, lucros | `Close`, `PE ratio`, `Revenue` | Direto                  |\n",
    "| `int64`        | Volumes, contagens          | `Volume`, `marketCap`          | Direto                  |\n",
    "| `object`       | Texto, categorias           | `sector`, `currency`           | Codificar ou descartar  |\n",
    "| `datetime64`   | Índice de séries temporais  | Datas do histórico de preços   | Criar features de tempo |\n"
   ]
  },
  {
   "cell_type": "markdown",
   "metadata": {},
   "source": [
    "# Finnhub"
   ]
  },
  {
   "cell_type": "code",
   "execution_count": 9,
   "metadata": {},
   "outputs": [],
   "source": [
    "finnhub_client = finnhub.Client(api_key=\"d2t41lhr01qkuv3j7b3gd2t41lhr01qkuv3j7b40\")"
   ]
  },
  {
   "cell_type": "markdown",
   "metadata": {},
   "source": [
    "### 1. Cotacao de dados em tempo real"
   ]
  },
  {
   "cell_type": "code",
   "execution_count": 10,
   "metadata": {},
   "outputs": [
    {
     "name": "stdout",
     "output_type": "stream",
     "text": [
      "Cotação (AAPL):\n",
      "        c     d      dp         h       l    o      pc           t\n",
      "0  234.35 -3.53 -1.4839  238.7805  233.36  237  237.88  1757448000\n",
      "\n",
      "Tipos de dados:\n",
      "c     float64\n",
      "d     float64\n",
      "dp    float64\n",
      "h     float64\n",
      "l     float64\n",
      "o       int64\n",
      "pc    float64\n",
      "t       int64\n",
      "dtype: object\n"
     ]
    }
   ],
   "source": [
    "# Cotação da Apple\n",
    "quote = finnhub_client.quote(\"AAPL\")\n",
    "df_quote = pd.DataFrame([quote])\n",
    "\n",
    "print(\"Cotação (AAPL):\")\n",
    "print(df_quote.head())\n",
    "print(\"\\nTipos de dados:\")\n",
    "print(df_quote.dtypes)\n"
   ]
  },
  {
   "cell_type": "markdown",
   "metadata": {},
   "source": [
    "### 2. perfil da empresa "
   ]
  },
  {
   "cell_type": "code",
   "execution_count": 11,
   "metadata": {},
   "outputs": [
    {
     "name": "stdout",
     "output_type": "stream",
     "text": [
      "\n",
      "Perfil da empresa (AAPL):\n",
      "  country currency estimateCurrency                    exchange  \\\n",
      "0      US      USD              USD  NASDAQ NMS - GLOBAL MARKET   \n",
      "\n",
      "  finnhubIndustry         ipo  \\\n",
      "0      Technology  1980-12-12   \n",
      "\n",
      "                                                logo  marketCapitalization  \\\n",
      "0  https://static2.finnhub.io/file/publicdatany/f...          3.477845e+06   \n",
      "\n",
      "        name        phone  shareOutstanding ticker                  weburl  \n",
      "0  Apple Inc  14089961010          14840.39   AAPL  https://www.apple.com/  \n",
      "\n",
      "Tipos de dados:\n",
      "country                  object\n",
      "currency                 object\n",
      "estimateCurrency         object\n",
      "exchange                 object\n",
      "finnhubIndustry          object\n",
      "ipo                      object\n",
      "logo                     object\n",
      "marketCapitalization    float64\n",
      "name                     object\n",
      "phone                    object\n",
      "shareOutstanding        float64\n",
      "ticker                   object\n",
      "weburl                   object\n",
      "dtype: object\n"
     ]
    }
   ],
   "source": [
    "profile = finnhub_client.company_profile2(symbol=\"AAPL\")\n",
    "df_profile = pd.DataFrame([profile])\n",
    "\n",
    "print(\"\\nPerfil da empresa (AAPL):\")\n",
    "print(df_profile.head())\n",
    "print(\"\\nTipos de dados:\")\n",
    "print(df_profile.dtypes)\n"
   ]
  },
  {
   "cell_type": "markdown",
   "metadata": {},
   "source": [
    "### 3. Noticias"
   ]
  },
  {
   "cell_type": "code",
   "execution_count": 12,
   "metadata": {},
   "outputs": [
    {
     "name": "stdout",
     "output_type": "stream",
     "text": [
      "\n",
      "Notícias gerais (amostra):\n",
      "   category    datetime                                           headline  \\\n",
      "0  top news  1757464740  Klarna prices IPO well above expected range, r...   \n",
      "1  top news  1757459520  Trump aims to curb direct-to-consumer ads for ...   \n",
      "2  top news  1757458563  Aggressive buybacks are giving some companies ...   \n",
      "3  top news  1757453864  Apple's iPhone 17 lineup has enough spark to b...   \n",
      "4  top news  1757453100  OpenAI CFO says companies who are not embracin...   \n",
      "\n",
      "        id                                              image related  \\\n",
      "0  7514826  https://static2.finnhub.io/file/publicdatany/f...           \n",
      "1  7514820  https://static2.finnhub.io/file/publicdatany/f...           \n",
      "2  7514822  https://image.cnbcfm.com/api/v1/image/10602222...           \n",
      "3  7514803  https://image.cnbcfm.com/api/v1/image/10819642...           \n",
      "4  7514802  https://image.cnbcfm.com/api/v1/image/10818849...           \n",
      "\n",
      "        source                                            summary  \\\n",
      "0  MarketWatch  Klarna’s IPO priced at $40 late Tuesday, well ...   \n",
      "1  MarketWatch  President Donald Trump’s administration on Tue...   \n",
      "2         CNBC  CNBC's Jim Cramer told investors on Tuesday wh...   \n",
      "3         CNBC  The iPhone Air is an exciting product that Jim...   \n",
      "4         CNBC  People need to adopt artificial intelligence i...   \n",
      "\n",
      "                                                 url  \n",
      "0  https://www.marketwatch.com/story/klarna-price...  \n",
      "1  https://www.marketwatch.com/story/trump-aims-t...  \n",
      "2  https://www.cnbc.com/2025/09/09/aggressive-buy...  \n",
      "3  https://www.cnbc.com/2025/09/09/apples-iphone-...  \n",
      "4  https://www.cnbc.com/2025/09/09/openai-ai-comp...  \n",
      "\n",
      "Tipos de dados:\n",
      "category    object\n",
      "datetime     int64\n",
      "headline    object\n",
      "id           int64\n",
      "image       object\n",
      "related     object\n",
      "source      object\n",
      "summary     object\n",
      "url         object\n",
      "dtype: object\n"
     ]
    }
   ],
   "source": [
    "news = finnhub_client.general_news(\"general\", min_id=0)\n",
    "\n",
    "df_news = pd.DataFrame(news[:5])\n",
    "\n",
    "print(\"\\nNotícias gerais (amostra):\")\n",
    "print(df_news.head())\n",
    "print(\"\\nTipos de dados:\")\n",
    "print(df_news.dtypes)\n"
   ]
  },
  {
   "cell_type": "markdown",
   "metadata": {},
   "source": [
    "### Tipos de Dados - Finnhub (Plano Free)\n",
    "\n",
    "- **Float64**  \n",
    "  - Preços e variações em endpoints como `quote` e `candles`.  \n",
    "  - Exemplo: `c` (current price), `h` (high price), `l` (low price).\n",
    "\n",
    "- **Int64**  \n",
    "  - Alguns identificadores numéricos ou timestamps em segundos.  \n",
    "  - Exemplo: `t` em `candles` (tempo).\n",
    "\n",
    "- **Object (strings/texto)**  \n",
    "  - **Maioria dos dados no plano free.**  \n",
    "  - Inclui: nome da empresa, país, moeda, setor, URL de site, manchetes de notícias.  \n",
    "  - Exemplo: `name`, `ticker`, `exchange`, `industry`, `headline`, `url`.\n",
    "\n",
    "### Observação\n",
    "O Finnhub fornece mais **metadados e informações contextuais** do que séries numéricas.  \n",
    "Portanto, o tratamento de strings e categorização é essencial antes de aplicar modelos de machine learning.\n"
   ]
  },
  {
   "cell_type": "markdown",
   "metadata": {},
   "source": [
    "# Comparacao dos tipos de dados Yfinance X Finnhub "
   ]
  },
  {
   "cell_type": "markdown",
   "metadata": {},
   "source": [
    "| Fonte        | Float64                                                          | Int64                                                     | Object (string/texto)                                                            |\n",
    "| ------------ | ---------------------------------------------------------------- | --------------------------------------------------------- | -------------------------------------------------------------------------------- |\n",
    "| **yfinance** | Maioria absoluta (preços, volume, indicadores)                   | Menor quantidade (ex.: contagem de ações, volume inteiro) | Poucos (ex.: nomes de colunas, moeda)                                            |\n",
    "| **finnhub**  | Menor quantidade (apenas em endpoints como `quote` ou `candles`) | Poucos (alguns IDs, timestamps)                           | **Maioria absoluta** (perfil da empresa, nomes, setores, países, URLs, notícias) |\n"
   ]
  },
  {
   "cell_type": "markdown",
   "metadata": {},
   "source": [
    "- **yfinance** → Focado em séries históricas de preços (OHLCV).  \n",
    "  - Dados numéricos → `float64` (preços) e `int64` (volume).  \n",
    "  - Resultado: maioria dos dados em **float/int**.\n",
    "\n",
    "- **finnhub** → Focado em metadados e contexto.  \n",
    "  - Dados textuais → `object` (nome da empresa, setor, país, manchetes, URLs).  \n",
    "  - Poucos dados numéricos (preços em `quote` ou `candles`).  \n",
    "  - Resultado: maioria dos dados em **object**.\n",
    "\n",
    "\n",
    "OBS1: plano pago do finnhub a partir de 50 dolares\n",
    "\n",
    "OBS2: embora nao seja em tempo real, o atraso do Yfinance eh de apenas 15v minutos nas acoes."
   ]
  },
  {
   "cell_type": "markdown",
   "metadata": {},
   "source": [
    "## Mapeammento de dados uteis ao modelo"
   ]
  },
  {
   "cell_type": "markdown",
   "metadata": {},
   "source": [
    "### 1. **yfinance**\n",
    "Esses são essenciais porque o modelo vai precisar de séries temporais numéricas:\n",
    "\n",
    "- OHLCV (Open, High, Low, Close, Volume) → base para prever preços.\n",
    "\n",
    "- Adj Close (preço ajustado) → importante porque ajusta dividendos e splits.\n",
    "Dividendos e Splits → ajudam a corrigir distorções no histórico.\n",
    "\n",
    "- Returns (retornos percentuais) → derivados do preço, úteis como feature.\n",
    "\n",
    "- Volatilidade (pode ser calculada a partir de std de preços) → indicador de risco."
   ]
  },
  {
   "cell_type": "markdown",
   "metadata": {},
   "source": [
    "### 2. **finnhub (free)**\n",
    "Mesmo no plano gratuito, há dados de contexto que podem enriquecer:\n",
    "\n",
    "- Quote (cotações atuais) → current price, high, low, change %.\n",
    "\n",
    "- Company Profile → setor, indústria, país, moeda (categóricos úteis para clusterização ou comparação).\n",
    "\n",
    "- News / Sentiment (limitado no free) → manchetes podem ser transformadas em features textuais (ex: NLP para sentimento).\n",
    "\n",
    "- Earnings (lucros trimestrais) → se disponível no free, pode ajudar a contextualizar movimentos."
   ]
  },
  {
   "cell_type": "markdown",
   "metadata": {},
   "source": [
    "### 3. O que **NÃO** é tão útil agora\n",
    "- URLs, descrições longas, manchetes cruas → só valem se forem tratados via NLP (senão viram ruído).\n",
    "\n",
    "- Identificadores internos da API → não têm valor preditivo.\n",
    "\n",
    "- Campos muito esparsos no free plan (como dados fundamentalistas incompletos)."
   ]
  },
  {
   "cell_type": "markdown",
   "metadata": {},
   "source": [
    "### 4. Exemplo de Estrutura de Dados para o Modelo(mais completo)\n",
    "\n",
    "| Date       | Open  | High  | Low   | Close | Volume | Adj Close | Sector     | Country | Sentiment (notícia) |\n",
    "| ---------- | ----- | ----- | ----- | ----- | ------ | --------- | ---------- | ------- | ------------------- |\n",
    "| 2024-01-01 | 175.2 | 177.3 | 174.9 | 176.5 | 85M    | 176.4     | Technology | USA     | +0.2                |\n",
    "| 2024-01-02 | 176.5 | 178.0 | 175.8 | 177.9 | 90M    | 177.8     | Technology | USA     | -0.1                |\n"
   ]
  },
  {
   "cell_type": "markdown",
   "metadata": {},
   "source": [
    "### 5. Dados mais essenciais (mínimo viável)\n",
    "\n",
    "1. Close (ou Adj Close)\n",
    "O preço de fechamento é a referência clássica.\n",
    "Adj Close é ainda melhor porque já corrige dividendos e splits.\n",
    "\n",
    "2. Open, High, Low\n",
    "Usados para entender a variação intraday.\n",
    "Permitem calcular volatilidade, candles, etc.\n",
    "\n",
    "3. Volume\n",
    "Mede intensidade do mercado, ajuda a prever movimentos."
   ]
  },
  {
   "cell_type": "markdown",
   "metadata": {},
   "source": [
    "### 5.1. Exemplo Estrutura inicial (colunas mínimas)\n",
    "\n",
    "| Date       | Open  | High  | Low   | Close | Adj Close | Volume |\n",
    "| ---------- | ----- | ----- | ----- | ----- | --------- | ------ |\n",
    "| 2024-01-01 | 175.2 | 177.3 | 174.9 | 176.5 | 176.4     | 85M    |\n",
    "| 2024-01-02 | 176.5 | 178.0 | 175.8 | 177.9 | 177.8     | 90M    |\n",
    "\n",
    "\n",
    "**Resumo:**\n",
    "\n",
    "- Para o primeiro modelo de ML, basta OHLCV (Open, High, Low, Close, Volume), usando de preferência o Adj Close.\n",
    "\n",
    "- Mais tarde, se pode enriquecer com dados do Finnhub (setor, notícias, earnings), mas não é necessário no início."
   ]
  },
  {
   "cell_type": "markdown",
   "metadata": {},
   "source": [
    "## Estrategias de Integracao"
   ]
  },
  {
   "cell_type": "markdown",
   "metadata": {},
   "source": [
    "### 1. Fase Inicial (Protótipo / MVP)\n",
    "Objetivo: Testar modelo de ML com histórico de dados, entender padrões, validar pipeline.\n",
    "\n",
    "Estratégia recomendada: Batch Processing diário (via cron job).\n",
    "\n",
    "Por que recomendada:\n",
    "- Simples de implementar.\n",
    "- Baixo custo de API (yfinance gratuito já atende).\n",
    "- Dados suficientes para treinar o modelo inicial (OHLCV + features derivadas).\n",
    "\n",
    "Como funciona:\n",
    "- Roda script uma vez ao dia (ex: após fechamento do mercado).\n",
    "\n",
    "- Atualiza histórico completo + calcula features derivadas.\n",
    "\n",
    "Outras não recomendadas nesta fase:\n",
    "\n",
    "- Streaming: Desnecessário, complexidade alta sem benefício real (não precisa de dados intraday).\n",
    "\n",
    "- Event-driven: API free não envia eventos; implementação complexa sem vantagem.\n",
    "Micro-batch: Overkill para um modelo que ainda não precisa de intraday."
   ]
  },
  {
   "cell_type": "markdown",
   "metadata": {},
   "source": [
    "### 2. Fase Média (Validação / Testes mais frequentes)\n",
    "Objetivo: Começar a testar o modelo com dados quase em tempo real ou mais frequentes.\n",
    "\n",
    "Estratégia recomendada: Micro-batch / Mini-batch (ex: atualização a cada 30min ou 1h).\n",
    "\n",
    "Por que recomendada:\n",
    " - Mantém o modelo mais atualizado sem exigir streaming contínuo.\n",
    " - Permite testar se features intraday trazem ganho de performance.\n",
    " - Continua usando APIs gratuitas (limitadas por número de requisições).\n",
    "\n",
    "Como funciona:\n",
    "\n",
    "- Agendamento automático de script a cada X minutos.\n",
    "\n",
    "- Atualiza dataset parcial (somente dados novos) + recalcula features.\n",
    "\n",
    "Outras não recomendadas nesta fase:\n",
    "\n",
    "- Streaming completo: Muito complexo e exige APIs pagas ou infrastructure robusta.\n",
    "Event-driven: Pode ser útil, mas APIs gratuitas não suportam triggers confiáveis."
   ]
  },
  {
   "cell_type": "markdown",
   "metadata": {},
   "source": [
    "### 3. Fase Avançada (Produção / Modelo pronto para trading ou alertas)\n",
    "Objetivo: Modelo em produção, com dados quase em tempo real, para decisões rápidas ou alertas automáticos.\n",
    "\n",
    "Estratégia recomendada: Hybrid (Batch diário + Micro-batch ou Event-driven)\n",
    "\n",
    "Por que recomendada:\n",
    " - Batch diário: garante histórico completo atualizado.\n",
    " - Micro-batch ou Event-driven: captura movimentos intraday ou notícias críticas.\n",
    " - Combina confiabilidade do histórico + agilidade do tempo real.\n",
    "\n",
    "Como funciona:\n",
    "\n",
    " - Batch diário roda à noite.\n",
    "\n",
    " - Micro-batch ou event-driven roda durante o dia (dependendo da API paga ou webhook).\n",
    "\n",
    "Outras não recomendadas nesta fase:\n",
    "\n",
    " - Somente Batch: modelo ficaria atrasado, não capturaria movimentos intraday importantes.\n",
    "\n",
    " - Somente Streaming: custo alto, manutenção complexa, e histórico completo precisaria de backup."
   ]
  },
  {
   "cell_type": "markdown",
   "metadata": {},
   "source": [
    "### 4. Resumo visual\n",
    "\n",
    "| Fase do projeto     | Estratégia recomendada       | Por que                                    | Outras estratégias não recomendadas                                |\n",
    "| ------------------- | ---------------------------- | ------------------------------------------ | ------------------------------------------------------------------ |\n",
    "| Inicial (protótipo) | Batch diário                 | Simples, barato, suficiente para histórico | Streaming/Evento/Micro-batch → complexidade desnecessária          |\n",
    "| Média (validação)   | Micro-batch (30min–1h)       | Mais frequência, quase em tempo real       | Streaming completo → caro/complexo; Event → APIs free não suportam |\n",
    "| Avançada (produção) | Hybrid (Batch + Micro/Event) | Histórico confiável + alertas rápidos      | Apenas Batch → atrasado; Apenas Streaming → manutenção cara        |\n"
   ]
  }
 ],
 "metadata": {
  "kernelspec": {
   "display_name": "3.12.5",
   "language": "python",
   "name": "python3"
  },
  "language_info": {
   "codemirror_mode": {
    "name": "ipython",
    "version": 3
   },
   "file_extension": ".py",
   "mimetype": "text/x-python",
   "name": "python",
   "nbconvert_exporter": "python",
   "pygments_lexer": "ipython3",
   "version": "3.12.5"
  }
 },
 "nbformat": 4,
 "nbformat_minor": 2
}
