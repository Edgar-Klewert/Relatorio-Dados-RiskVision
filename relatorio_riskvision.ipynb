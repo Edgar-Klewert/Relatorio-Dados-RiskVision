{
 "cells": [
  {
   "cell_type": "markdown",
   "metadata": {},
   "source": [
    "# Yfinance"
   ]
  },
  {
   "cell_type": "markdown",
   "metadata": {},
   "source": [
    "### 1. Importacao das bibliotecas"
   ]
  },
  {
   "cell_type": "code",
   "execution_count": 1,
   "metadata": {},
   "outputs": [],
   "source": [
    "import yfinance as yf\n",
    "import pandas as pd\n",
    "import finnhub\n",
    "ticker = yf.Ticker(\"AAPL\")\n",
    "from datetime import datetime, timedelta\n",
    "import time\n",
    "import matplotlib.pyplot as plt\n"
   ]
  },
  {
   "cell_type": "markdown",
   "metadata": {},
   "source": [
    "### 2. Historico de preços"
   ]
  },
  {
   "cell_type": "code",
   "execution_count": 2,
   "metadata": {},
   "outputs": [
    {
     "name": "stdout",
     "output_type": "stream",
     "text": [
      "Histórico de preços (head):\n"
     ]
    },
    {
     "data": {
      "text/html": [
       "<div>\n",
       "<style scoped>\n",
       "    .dataframe tbody tr th:only-of-type {\n",
       "        vertical-align: middle;\n",
       "    }\n",
       "\n",
       "    .dataframe tbody tr th {\n",
       "        vertical-align: top;\n",
       "    }\n",
       "\n",
       "    .dataframe thead th {\n",
       "        text-align: right;\n",
       "    }\n",
       "</style>\n",
       "<table border=\"1\" class=\"dataframe\">\n",
       "  <thead>\n",
       "    <tr style=\"text-align: right;\">\n",
       "      <th></th>\n",
       "      <th>Open</th>\n",
       "      <th>High</th>\n",
       "      <th>Low</th>\n",
       "      <th>Close</th>\n",
       "      <th>Volume</th>\n",
       "      <th>Dividends</th>\n",
       "      <th>Stock Splits</th>\n",
       "    </tr>\n",
       "    <tr>\n",
       "      <th>Date</th>\n",
       "      <th></th>\n",
       "      <th></th>\n",
       "      <th></th>\n",
       "      <th></th>\n",
       "      <th></th>\n",
       "      <th></th>\n",
       "      <th></th>\n",
       "    </tr>\n",
       "  </thead>\n",
       "  <tbody>\n",
       "    <tr>\n",
       "      <th>2025-09-15 00:00:00-04:00</th>\n",
       "      <td>237.000000</td>\n",
       "      <td>238.190002</td>\n",
       "      <td>235.029999</td>\n",
       "      <td>236.699997</td>\n",
       "      <td>42699500</td>\n",
       "      <td>0.0</td>\n",
       "      <td>0.0</td>\n",
       "    </tr>\n",
       "    <tr>\n",
       "      <th>2025-09-16 00:00:00-04:00</th>\n",
       "      <td>237.179993</td>\n",
       "      <td>241.220001</td>\n",
       "      <td>236.320007</td>\n",
       "      <td>238.149994</td>\n",
       "      <td>63421100</td>\n",
       "      <td>0.0</td>\n",
       "      <td>0.0</td>\n",
       "    </tr>\n",
       "    <tr>\n",
       "      <th>2025-09-17 00:00:00-04:00</th>\n",
       "      <td>238.970001</td>\n",
       "      <td>240.100006</td>\n",
       "      <td>237.729996</td>\n",
       "      <td>238.990005</td>\n",
       "      <td>46508000</td>\n",
       "      <td>0.0</td>\n",
       "      <td>0.0</td>\n",
       "    </tr>\n",
       "    <tr>\n",
       "      <th>2025-09-18 00:00:00-04:00</th>\n",
       "      <td>239.970001</td>\n",
       "      <td>241.199997</td>\n",
       "      <td>236.649994</td>\n",
       "      <td>237.880005</td>\n",
       "      <td>44249600</td>\n",
       "      <td>0.0</td>\n",
       "      <td>0.0</td>\n",
       "    </tr>\n",
       "    <tr>\n",
       "      <th>2025-09-19 00:00:00-04:00</th>\n",
       "      <td>241.229996</td>\n",
       "      <td>246.300003</td>\n",
       "      <td>240.210007</td>\n",
       "      <td>245.500000</td>\n",
       "      <td>163741300</td>\n",
       "      <td>0.0</td>\n",
       "      <td>0.0</td>\n",
       "    </tr>\n",
       "  </tbody>\n",
       "</table>\n",
       "</div>"
      ],
      "text/plain": [
       "                                 Open        High         Low       Close  \\\n",
       "Date                                                                        \n",
       "2025-09-15 00:00:00-04:00  237.000000  238.190002  235.029999  236.699997   \n",
       "2025-09-16 00:00:00-04:00  237.179993  241.220001  236.320007  238.149994   \n",
       "2025-09-17 00:00:00-04:00  238.970001  240.100006  237.729996  238.990005   \n",
       "2025-09-18 00:00:00-04:00  239.970001  241.199997  236.649994  237.880005   \n",
       "2025-09-19 00:00:00-04:00  241.229996  246.300003  240.210007  245.500000   \n",
       "\n",
       "                              Volume  Dividends  Stock Splits  \n",
       "Date                                                           \n",
       "2025-09-15 00:00:00-04:00   42699500        0.0           0.0  \n",
       "2025-09-16 00:00:00-04:00   63421100        0.0           0.0  \n",
       "2025-09-17 00:00:00-04:00   46508000        0.0           0.0  \n",
       "2025-09-18 00:00:00-04:00   44249600        0.0           0.0  \n",
       "2025-09-19 00:00:00-04:00  163741300        0.0           0.0  "
      ]
     },
     "metadata": {},
     "output_type": "display_data"
    },
    {
     "name": "stdout",
     "output_type": "stream",
     "text": [
      "\n",
      "Tipos de dados:\n",
      "Open            float64\n",
      "High            float64\n",
      "Low             float64\n",
      "Close           float64\n",
      "Volume            int64\n",
      "Dividends       float64\n",
      "Stock Splits    float64\n",
      "dtype: object\n"
     ]
    }
   ],
   "source": [
    "# Histórico de preços (último mês)\n",
    "historico = ticker.history(period=\"1mo\")\n",
    "print(\"Histórico de preços (head):\")\n",
    "display(historico.head())\n",
    "\n",
    "print(\"\\nTipos de dados:\")\n",
    "print(historico.dtypes)\n"
   ]
  },
  {
   "cell_type": "markdown",
   "metadata": {},
   "source": [
    "### 3. Informacoes gerais"
   ]
  },
  {
   "cell_type": "code",
   "execution_count": 3,
   "metadata": {},
   "outputs": [
    {
     "name": "stdout",
     "output_type": "stream",
     "text": [
      "Exemplo de dados do .info:\n",
      "\n",
      "address1: One Apple Park Way -> <class 'str'>\n",
      "city: Cupertino -> <class 'str'>\n",
      "state: CA -> <class 'str'>\n",
      "zip: 95014 -> <class 'str'>\n",
      "country: United States -> <class 'str'>\n",
      "phone: (408) 996-1010 -> <class 'str'>\n",
      "website: https://www.apple.com -> <class 'str'>\n",
      "industry: Consumer Electronics -> <class 'str'>\n",
      "industryKey: consumer-electronics -> <class 'str'>\n",
      "industryDisp: Consumer Electronics -> <class 'str'>\n",
      "sector: Technology -> <class 'str'>\n",
      "sectorKey: technology -> <class 'str'>\n",
      "sectorDisp: Technology -> <class 'str'>\n",
      "longBusinessSummary: Apple Inc. designs, manufactures, and markets smartphones, personal computers, tablets, wearables, and accessories worldwide. The company offers iPhone, a line of smartphones; Mac, a line of personal computers; iPad, a line of multi-purpose tablets; and wearables, home, and accessories comprising AirPods, Apple TV, Apple Watch, Beats products, and HomePod. It also provides AppleCare support and cloud services; and operates various platforms, including the App Store that allow customers to discover and download applications and digital content, such as books, music, video, games, and podcasts, as well as advertising services include third-party licensing arrangements and its own advertising platforms. In addition, the company offers various subscription-based services, such as Apple Arcade, a game subscription service; Apple Fitness+, a personalized fitness service; Apple Music, which offers users a curated listening experience with on-demand radio stations; Apple News+, a subscription news and magazine service; Apple TV+, which offers exclusive original content; Apple Card, a co-branded credit card; and Apple Pay, a cashless payment service, as well as licenses its intellectual property. The company serves consumers, and small and mid-sized businesses; and the education, enterprise, and government markets. It distributes third-party applications for its products through the App Store. The company also sells its products through its retail and online stores, and direct sales force; and third-party cellular network carriers, wholesalers, retailers, and resellers. Apple Inc. was founded in 1976 and is headquartered in Cupertino, California. -> <class 'str'>\n",
      "fullTimeEmployees: 150000 -> <class 'int'>\n"
     ]
    }
   ],
   "source": [
    "info = ticker.info\n",
    "\n",
    "# Mostrar apenas algumas chaves para não poluir\n",
    "print(\"Exemplo de dados do .info:\\n\")\n",
    "for k, v in list(info.items())[:15]:\n",
    "    print(f\"{k}: {v} -> {type(v)}\")\n"
   ]
  },
  {
   "cell_type": "markdown",
   "metadata": {},
   "source": [
    "### 4. Dividendos e Splits"
   ]
  },
  {
   "cell_type": "code",
   "execution_count": 4,
   "metadata": {},
   "outputs": [
    {
     "name": "stdout",
     "output_type": "stream",
     "text": [
      "Dividendos:\n"
     ]
    },
    {
     "data": {
      "text/plain": [
       "Date\n",
       "1987-05-11 00:00:00-04:00    0.000536\n",
       "1987-08-10 00:00:00-04:00    0.000536\n",
       "1987-11-17 00:00:00-05:00    0.000714\n",
       "1988-02-12 00:00:00-05:00    0.000714\n",
       "1988-05-16 00:00:00-04:00    0.000714\n",
       "Name: Dividends, dtype: float64"
      ]
     },
     "metadata": {},
     "output_type": "display_data"
    },
    {
     "name": "stdout",
     "output_type": "stream",
     "text": [
      "Tipos: float64\n",
      "\n",
      "Splits:\n"
     ]
    },
    {
     "data": {
      "text/plain": [
       "Date\n",
       "1987-06-16 00:00:00-04:00    2.0\n",
       "2000-06-21 00:00:00-04:00    2.0\n",
       "2005-02-28 00:00:00-05:00    2.0\n",
       "2014-06-09 00:00:00-04:00    7.0\n",
       "2020-08-31 00:00:00-04:00    4.0\n",
       "Name: Stock Splits, dtype: float64"
      ]
     },
     "metadata": {},
     "output_type": "display_data"
    },
    {
     "name": "stdout",
     "output_type": "stream",
     "text": [
      "Tipos: float64\n"
     ]
    }
   ],
   "source": [
    "print(\"Dividendos:\")\n",
    "display(ticker.dividends.head())\n",
    "print(\"Tipos:\", ticker.dividends.dtypes)\n",
    "\n",
    "print(\"\\nSplits:\")\n",
    "display(ticker.splits.head())\n",
    "print(\"Tipos:\", ticker.splits.dtypes)\n"
   ]
  },
  {
   "cell_type": "markdown",
   "metadata": {},
   "source": [
    "### 5. Calendario de Eventos"
   ]
  },
  {
   "cell_type": "code",
   "execution_count": 5,
   "metadata": {},
   "outputs": [
    {
     "name": "stdout",
     "output_type": "stream",
     "text": [
      "Calendário de eventos:\n"
     ]
    },
    {
     "data": {
      "text/html": [
       "<div>\n",
       "<style scoped>\n",
       "    .dataframe tbody tr th:only-of-type {\n",
       "        vertical-align: middle;\n",
       "    }\n",
       "\n",
       "    .dataframe tbody tr th {\n",
       "        vertical-align: top;\n",
       "    }\n",
       "\n",
       "    .dataframe thead th {\n",
       "        text-align: right;\n",
       "    }\n",
       "</style>\n",
       "<table border=\"1\" class=\"dataframe\">\n",
       "  <thead>\n",
       "    <tr style=\"text-align: right;\">\n",
       "      <th></th>\n",
       "      <th>Dividend Date</th>\n",
       "      <th>Ex-Dividend Date</th>\n",
       "      <th>Earnings Date</th>\n",
       "      <th>Earnings High</th>\n",
       "      <th>Earnings Low</th>\n",
       "      <th>Earnings Average</th>\n",
       "      <th>Revenue High</th>\n",
       "      <th>Revenue Low</th>\n",
       "      <th>Revenue Average</th>\n",
       "    </tr>\n",
       "  </thead>\n",
       "  <tbody>\n",
       "    <tr>\n",
       "      <th>0</th>\n",
       "      <td>2025-08-13</td>\n",
       "      <td>2025-08-10</td>\n",
       "      <td>2025-10-30</td>\n",
       "      <td>1.83</td>\n",
       "      <td>1.63</td>\n",
       "      <td>1.76359</td>\n",
       "      <td>103220000000</td>\n",
       "      <td>97854000000</td>\n",
       "      <td>101707892750</td>\n",
       "    </tr>\n",
       "  </tbody>\n",
       "</table>\n",
       "</div>"
      ],
      "text/plain": [
       "  Dividend Date Ex-Dividend Date Earnings Date  Earnings High  Earnings Low  \\\n",
       "0    2025-08-13       2025-08-10    2025-10-30           1.83          1.63   \n",
       "\n",
       "   Earnings Average  Revenue High  Revenue Low  Revenue Average  \n",
       "0           1.76359  103220000000  97854000000     101707892750  "
      ]
     },
     "metadata": {},
     "output_type": "display_data"
    },
    {
     "name": "stdout",
     "output_type": "stream",
     "text": [
      "\n",
      "Tipos de dados:\n",
      "Dividend Date        object\n",
      "Ex-Dividend Date     object\n",
      "Earnings Date        object\n",
      "Earnings High       float64\n",
      "Earnings Low        float64\n",
      "Earnings Average    float64\n",
      "Revenue High          int64\n",
      "Revenue Low           int64\n",
      "Revenue Average       int64\n",
      "dtype: object\n"
     ]
    }
   ],
   "source": [
    "print(\"Calendário de eventos:\")\n",
    "\n",
    "calendar = ticker.calendar\n",
    "\n",
    "if isinstance(calendar, dict):\n",
    "    calendar = pd.DataFrame(calendar)\n",
    "\n",
    "display(calendar)\n",
    "\n",
    "print(\"\\nTipos de dados:\")\n",
    "print(calendar.dtypes)\n"
   ]
  },
  {
   "cell_type": "markdown",
   "metadata": {},
   "source": [
    "### 6. Recomendacao de analistas"
   ]
  },
  {
   "cell_type": "code",
   "execution_count": 6,
   "metadata": {},
   "outputs": [
    {
     "name": "stdout",
     "output_type": "stream",
     "text": [
      "Recomendações de analistas:\n"
     ]
    },
    {
     "data": {
      "text/html": [
       "<div>\n",
       "<style scoped>\n",
       "    .dataframe tbody tr th:only-of-type {\n",
       "        vertical-align: middle;\n",
       "    }\n",
       "\n",
       "    .dataframe tbody tr th {\n",
       "        vertical-align: top;\n",
       "    }\n",
       "\n",
       "    .dataframe thead th {\n",
       "        text-align: right;\n",
       "    }\n",
       "</style>\n",
       "<table border=\"1\" class=\"dataframe\">\n",
       "  <thead>\n",
       "    <tr style=\"text-align: right;\">\n",
       "      <th></th>\n",
       "      <th>period</th>\n",
       "      <th>strongBuy</th>\n",
       "      <th>buy</th>\n",
       "      <th>hold</th>\n",
       "      <th>sell</th>\n",
       "      <th>strongSell</th>\n",
       "    </tr>\n",
       "  </thead>\n",
       "  <tbody>\n",
       "    <tr>\n",
       "      <th>0</th>\n",
       "      <td>0m</td>\n",
       "      <td>5</td>\n",
       "      <td>23</td>\n",
       "      <td>15</td>\n",
       "      <td>2</td>\n",
       "      <td>3</td>\n",
       "    </tr>\n",
       "    <tr>\n",
       "      <th>1</th>\n",
       "      <td>-1m</td>\n",
       "      <td>5</td>\n",
       "      <td>23</td>\n",
       "      <td>15</td>\n",
       "      <td>1</td>\n",
       "      <td>3</td>\n",
       "    </tr>\n",
       "    <tr>\n",
       "      <th>2</th>\n",
       "      <td>-2m</td>\n",
       "      <td>5</td>\n",
       "      <td>22</td>\n",
       "      <td>15</td>\n",
       "      <td>1</td>\n",
       "      <td>1</td>\n",
       "    </tr>\n",
       "    <tr>\n",
       "      <th>3</th>\n",
       "      <td>-3m</td>\n",
       "      <td>5</td>\n",
       "      <td>23</td>\n",
       "      <td>15</td>\n",
       "      <td>1</td>\n",
       "      <td>1</td>\n",
       "    </tr>\n",
       "  </tbody>\n",
       "</table>\n",
       "</div>"
      ],
      "text/plain": [
       "  period  strongBuy  buy  hold  sell  strongSell\n",
       "0     0m          5   23    15     2           3\n",
       "1    -1m          5   23    15     1           3\n",
       "2    -2m          5   22    15     1           1\n",
       "3    -3m          5   23    15     1           1"
      ]
     },
     "metadata": {},
     "output_type": "display_data"
    },
    {
     "name": "stdout",
     "output_type": "stream",
     "text": [
      "\n",
      "Tipos de dados:\n",
      "period        object\n",
      "strongBuy      int64\n",
      "buy            int64\n",
      "hold           int64\n",
      "sell           int64\n",
      "strongSell     int64\n",
      "dtype: object\n"
     ]
    }
   ],
   "source": [
    "print(\"Recomendações de analistas:\")\n",
    "display(ticker.recommendations.tail())\n",
    "print(\"\\nTipos de dados:\")\n",
    "print(ticker.recommendations.dtypes)\n"
   ]
  },
  {
   "cell_type": "markdown",
   "metadata": {},
   "source": [
    "### 7. Dados Financeiros"
   ]
  },
  {
   "cell_type": "code",
   "execution_count": 7,
   "metadata": {},
   "outputs": [
    {
     "name": "stdout",
     "output_type": "stream",
     "text": [
      "Lucros anuais (financials):\n"
     ]
    },
    {
     "data": {
      "text/html": [
       "<div>\n",
       "<style scoped>\n",
       "    .dataframe tbody tr th:only-of-type {\n",
       "        vertical-align: middle;\n",
       "    }\n",
       "\n",
       "    .dataframe tbody tr th {\n",
       "        vertical-align: top;\n",
       "    }\n",
       "\n",
       "    .dataframe thead th {\n",
       "        text-align: right;\n",
       "    }\n",
       "</style>\n",
       "<table border=\"1\" class=\"dataframe\">\n",
       "  <thead>\n",
       "    <tr style=\"text-align: right;\">\n",
       "      <th></th>\n",
       "      <th>2024-09-30</th>\n",
       "      <th>2023-09-30</th>\n",
       "      <th>2022-09-30</th>\n",
       "      <th>2021-09-30</th>\n",
       "    </tr>\n",
       "  </thead>\n",
       "  <tbody>\n",
       "    <tr>\n",
       "      <th>Tax Effect Of Unusual Items</th>\n",
       "      <td>0.000000e+00</td>\n",
       "      <td>0.000000e+00</td>\n",
       "      <td>0.000000e+00</td>\n",
       "      <td>0.000000e+00</td>\n",
       "    </tr>\n",
       "    <tr>\n",
       "      <th>Tax Rate For Calcs</th>\n",
       "      <td>2.410000e-01</td>\n",
       "      <td>1.470000e-01</td>\n",
       "      <td>1.620000e-01</td>\n",
       "      <td>1.330000e-01</td>\n",
       "    </tr>\n",
       "    <tr>\n",
       "      <th>Normalized EBITDA</th>\n",
       "      <td>1.346610e+11</td>\n",
       "      <td>1.258200e+11</td>\n",
       "      <td>1.305410e+11</td>\n",
       "      <td>1.231360e+11</td>\n",
       "    </tr>\n",
       "    <tr>\n",
       "      <th>Net Income From Continuing Operation Net Minority Interest</th>\n",
       "      <td>9.373600e+10</td>\n",
       "      <td>9.699500e+10</td>\n",
       "      <td>9.980300e+10</td>\n",
       "      <td>9.468000e+10</td>\n",
       "    </tr>\n",
       "    <tr>\n",
       "      <th>Reconciled Depreciation</th>\n",
       "      <td>1.144500e+10</td>\n",
       "      <td>1.151900e+10</td>\n",
       "      <td>1.110400e+10</td>\n",
       "      <td>1.128400e+10</td>\n",
       "    </tr>\n",
       "  </tbody>\n",
       "</table>\n",
       "</div>"
      ],
      "text/plain": [
       "                                                      2024-09-30  \\\n",
       "Tax Effect Of Unusual Items                         0.000000e+00   \n",
       "Tax Rate For Calcs                                  2.410000e-01   \n",
       "Normalized EBITDA                                   1.346610e+11   \n",
       "Net Income From Continuing Operation Net Minori...  9.373600e+10   \n",
       "Reconciled Depreciation                             1.144500e+10   \n",
       "\n",
       "                                                      2023-09-30  \\\n",
       "Tax Effect Of Unusual Items                         0.000000e+00   \n",
       "Tax Rate For Calcs                                  1.470000e-01   \n",
       "Normalized EBITDA                                   1.258200e+11   \n",
       "Net Income From Continuing Operation Net Minori...  9.699500e+10   \n",
       "Reconciled Depreciation                             1.151900e+10   \n",
       "\n",
       "                                                      2022-09-30    2021-09-30  \n",
       "Tax Effect Of Unusual Items                         0.000000e+00  0.000000e+00  \n",
       "Tax Rate For Calcs                                  1.620000e-01  1.330000e-01  \n",
       "Normalized EBITDA                                   1.305410e+11  1.231360e+11  \n",
       "Net Income From Continuing Operation Net Minori...  9.980300e+10  9.468000e+10  \n",
       "Reconciled Depreciation                             1.110400e+10  1.128400e+10  "
      ]
     },
     "metadata": {},
     "output_type": "display_data"
    },
    {
     "name": "stdout",
     "output_type": "stream",
     "text": [
      "\n",
      "Tipos de dados:\n",
      "2024-09-30    float64\n",
      "2023-09-30    float64\n",
      "2022-09-30    float64\n",
      "2021-09-30    float64\n",
      "dtype: object\n"
     ]
    }
   ],
   "source": [
    "print(\"Lucros anuais (financials):\")\n",
    "display(ticker.financials.head())\n",
    "\n",
    "print(\"\\nTipos de dados:\")\n",
    "print(ticker.financials.dtypes)\n"
   ]
  },
  {
   "cell_type": "markdown",
   "metadata": {},
   "source": [
    "### 8. Resumo dos dados"
   ]
  },
  {
   "cell_type": "code",
   "execution_count": 8,
   "metadata": {},
   "outputs": [
    {
     "name": "stdout",
     "output_type": "stream",
     "text": [
      "Resumo dos tipos de dados no yfinance:\n"
     ]
    },
    {
     "data": {
      "text/html": [
       "<div>\n",
       "<style scoped>\n",
       "    .dataframe tbody tr th:only-of-type {\n",
       "        vertical-align: middle;\n",
       "    }\n",
       "\n",
       "    .dataframe tbody tr th {\n",
       "        vertical-align: top;\n",
       "    }\n",
       "\n",
       "    .dataframe thead th {\n",
       "        text-align: right;\n",
       "    }\n",
       "</style>\n",
       "<table border=\"1\" class=\"dataframe\">\n",
       "  <thead>\n",
       "    <tr style=\"text-align: right;\">\n",
       "      <th></th>\n",
       "      <th>Origem</th>\n",
       "      <th>Retorno Principal</th>\n",
       "      <th>Tipos de dados</th>\n",
       "    </tr>\n",
       "  </thead>\n",
       "  <tbody>\n",
       "    <tr>\n",
       "      <th>0</th>\n",
       "      <td>history</td>\n",
       "      <td>DataFrame</td>\n",
       "      <td>float64, int64, datetime64</td>\n",
       "    </tr>\n",
       "    <tr>\n",
       "      <th>1</th>\n",
       "      <td>info</td>\n",
       "      <td>dict</td>\n",
       "      <td>str, float, int, bool, None</td>\n",
       "    </tr>\n",
       "    <tr>\n",
       "      <th>2</th>\n",
       "      <td>dividends</td>\n",
       "      <td>Series</td>\n",
       "      <td>float64, datetime64</td>\n",
       "    </tr>\n",
       "    <tr>\n",
       "      <th>3</th>\n",
       "      <td>splits</td>\n",
       "      <td>Series</td>\n",
       "      <td>int64, datetime64</td>\n",
       "    </tr>\n",
       "    <tr>\n",
       "      <th>4</th>\n",
       "      <td>calendar</td>\n",
       "      <td>DataFrame</td>\n",
       "      <td>datetime64</td>\n",
       "    </tr>\n",
       "    <tr>\n",
       "      <th>5</th>\n",
       "      <td>recommendations</td>\n",
       "      <td>DataFrame</td>\n",
       "      <td>str, datetime64</td>\n",
       "    </tr>\n",
       "    <tr>\n",
       "      <th>6</th>\n",
       "      <td>financials</td>\n",
       "      <td>DataFrame</td>\n",
       "      <td>float64, datetime64</td>\n",
       "    </tr>\n",
       "  </tbody>\n",
       "</table>\n",
       "</div>"
      ],
      "text/plain": [
       "            Origem Retorno Principal               Tipos de dados\n",
       "0          history         DataFrame   float64, int64, datetime64\n",
       "1             info              dict  str, float, int, bool, None\n",
       "2        dividends            Series          float64, datetime64\n",
       "3           splits            Series            int64, datetime64\n",
       "4         calendar         DataFrame                   datetime64\n",
       "5  recommendations         DataFrame              str, datetime64\n",
       "6       financials         DataFrame          float64, datetime64"
      ]
     },
     "metadata": {},
     "output_type": "display_data"
    }
   ],
   "source": [
    "resumo = pd.DataFrame({\n",
    "    \"Origem\": [\n",
    "        \"history\", \"info\", \"dividends\", \"splits\", \"calendar\", \"recommendations\", \"financials\"\n",
    "    ],\n",
    "    \"Retorno Principal\": [\n",
    "        \"DataFrame\", \"dict\", \"Series\", \"Series\", \"DataFrame\", \"DataFrame\", \"DataFrame\"\n",
    "    ],\n",
    "    \"Tipos de dados\": [\n",
    "        \"float64, int64, datetime64\",\n",
    "        \"str, float, int, bool, None\",\n",
    "        \"float64, datetime64\",\n",
    "        \"int64, datetime64\",\n",
    "        \"datetime64\",\n",
    "        \"str, datetime64\",\n",
    "        \"float64, datetime64\"\n",
    "    ]\n",
    "})\n",
    "\n",
    "print(\"Resumo dos tipos de dados no yfinance:\")\n",
    "display(resumo)\n"
   ]
  },
  {
   "cell_type": "markdown",
   "metadata": {},
   "source": [
    "| Tipo (`dtype`) | Onde aparece no yfinance    | Exemplo                        | Uso no ML               |\n",
    "| -------------- | --------------------------- | ------------------------------ | ----------------------- |\n",
    "| `float64`      | Preços, indicadores, lucros | `Close`, `PE ratio`, `Revenue` | Direto                  |\n",
    "| `int64`        | Volumes, contagens          | `Volume`, `marketCap`          | Direto                  |\n",
    "| `object`       | Texto, categorias           | `sector`, `currency`           | Codificar ou descartar  |\n",
    "| `datetime64`   | Índice de séries temporais  | Datas do histórico de preços   | Criar features de tempo |\n"
   ]
  },
  {
   "cell_type": "markdown",
   "metadata": {},
   "source": [
    "# Finnhub"
   ]
  },
  {
   "cell_type": "code",
   "execution_count": 9,
   "metadata": {},
   "outputs": [],
   "source": [
    "finnhub_client = finnhub.Client(api_key=\"d2t41lhr01qkuv3j7b3gd2t41lhr01qkuv3j7b40\")"
   ]
  },
  {
   "cell_type": "markdown",
   "metadata": {},
   "source": [
    "### 1. Cotacao de dados em tempo real"
   ]
  },
  {
   "cell_type": "code",
   "execution_count": 10,
   "metadata": {},
   "outputs": [
    {
     "name": "stdout",
     "output_type": "stream",
     "text": [
      "Cotação (AAPL):\n",
      "        c     d      dp       h       l       o      pc           t\n",
      "0  248.99  1.22  0.4924  251.82  247.47  248.32  247.77  1760550206\n",
      "\n",
      "Tipos de dados:\n",
      "c     float64\n",
      "d     float64\n",
      "dp    float64\n",
      "h     float64\n",
      "l     float64\n",
      "o     float64\n",
      "pc    float64\n",
      "t       int64\n",
      "dtype: object\n"
     ]
    }
   ],
   "source": [
    "# Cotação da Apple\n",
    "quote = finnhub_client.quote(\"AAPL\")\n",
    "df_quote = pd.DataFrame([quote])\n",
    "\n",
    "print(\"Cotação (AAPL):\")\n",
    "print(df_quote.head())\n",
    "print(\"\\nTipos de dados:\")\n",
    "print(df_quote.dtypes)\n"
   ]
  },
  {
   "cell_type": "markdown",
   "metadata": {},
   "source": [
    "### 2. perfil da empresa "
   ]
  },
  {
   "cell_type": "code",
   "execution_count": 11,
   "metadata": {},
   "outputs": [
    {
     "name": "stdout",
     "output_type": "stream",
     "text": [
      "\n",
      "Perfil da empresa (AAPL):\n",
      "  country currency estimateCurrency                    exchange  \\\n",
      "0      US      USD              USD  NASDAQ NMS - GLOBAL MARKET   \n",
      "\n",
      "  finnhubIndustry         ipo  \\\n",
      "0      Technology  1980-12-12   \n",
      "\n",
      "                                                logo  marketCapitalization  \\\n",
      "0  https://static2.finnhub.io/file/publicdatany/f...          3.697483e+06   \n",
      "\n",
      "        name        phone  shareOutstanding ticker                  weburl  \n",
      "0  Apple Inc  14089961010          14840.39   AAPL  https://www.apple.com/  \n",
      "\n",
      "Tipos de dados:\n",
      "country                  object\n",
      "currency                 object\n",
      "estimateCurrency         object\n",
      "exchange                 object\n",
      "finnhubIndustry          object\n",
      "ipo                      object\n",
      "logo                     object\n",
      "marketCapitalization    float64\n",
      "name                     object\n",
      "phone                    object\n",
      "shareOutstanding        float64\n",
      "ticker                   object\n",
      "weburl                   object\n",
      "dtype: object\n"
     ]
    }
   ],
   "source": [
    "profile = finnhub_client.company_profile2(symbol=\"AAPL\")\n",
    "df_profile = pd.DataFrame([profile])\n",
    "\n",
    "print(\"\\nPerfil da empresa (AAPL):\")\n",
    "print(df_profile.head())\n",
    "print(\"\\nTipos de dados:\")\n",
    "print(df_profile.dtypes)\n"
   ]
  },
  {
   "cell_type": "markdown",
   "metadata": {},
   "source": [
    "### 3. Noticias"
   ]
  },
  {
   "cell_type": "code",
   "execution_count": 12,
   "metadata": {},
   "outputs": [
    {
     "name": "stdout",
     "output_type": "stream",
     "text": [
      "\n",
      "Notícias gerais (amostra):\n",
      "   category    datetime                                           headline  \\\n",
      "0  top news  1760548260  This low-risk sector has outperformed tech sto...   \n",
      "1  top news  1760547600                   America gets a ‘D’ in retirement   \n",
      "2  top news  1760547426  Bunge shares soar 11% after Trump considers Ch...   \n",
      "3  top news  1760545413  Government shutdown enters third week with no ...   \n",
      "4  top news  1760544499  Jim Cramer debates what to do with 6 stocks, a...   \n",
      "\n",
      "        id                                              image related  \\\n",
      "0  7524600  https://static2.finnhub.io/file/publicdatany/f...           \n",
      "1  7524601  https://static2.finnhub.io/file/publicdatany/f...           \n",
      "2  7524598  https://image.cnbcfm.com/api/v1/image/10821248...           \n",
      "3  7524585  https://image.cnbcfm.com/api/v1/image/10821073...           \n",
      "4  7524599  https://image.cnbcfm.com/api/v1/image/10821206...           \n",
      "\n",
      "        source                                            summary  \\\n",
      "0  MarketWatch  The artificial-intelligence trade may be one o...   \n",
      "1  MarketWatch  U.S. adults are generally underprepared to liv...   \n",
      "2         CNBC  Bunge Global jumped on the back of the Trump a...   \n",
      "3         CNBC  Republican and Democrat senators continued to ...   \n",
      "4         CNBC  The Investing Club holds its \"Morning Meeting\"...   \n",
      "\n",
      "                                                 url  \n",
      "0  https://www.marketwatch.com/story/this-low-ris...  \n",
      "1  https://www.marketwatch.com/story/america-gets...  \n",
      "2  https://www.cnbc.com/2025/10/15/bunge-shares-s...  \n",
      "3  https://www.cnbc.com/2025/10/15/government-shu...  \n",
      "4  https://www.cnbc.com/2025/10/15/jim-cramer-deb...  \n",
      "\n",
      "Tipos de dados:\n",
      "category    object\n",
      "datetime     int64\n",
      "headline    object\n",
      "id           int64\n",
      "image       object\n",
      "related     object\n",
      "source      object\n",
      "summary     object\n",
      "url         object\n",
      "dtype: object\n"
     ]
    }
   ],
   "source": [
    "news = finnhub_client.general_news(\"general\", min_id=0)\n",
    "\n",
    "df_news = pd.DataFrame(news[:5])\n",
    "\n",
    "print(\"\\nNotícias gerais (amostra):\")\n",
    "print(df_news.head())\n",
    "print(\"\\nTipos de dados:\")\n",
    "print(df_news.dtypes)\n"
   ]
  },
  {
   "cell_type": "markdown",
   "metadata": {},
   "source": [
    "### Tipos de Dados - Finnhub (Plano Free)\n",
    "\n",
    "- **Float64**  \n",
    "  - Preços e variações em endpoints como `quote` e `candles`.  \n",
    "  - Exemplo: `c` (current price), `h` (high price), `l` (low price).\n",
    "\n",
    "- **Int64**  \n",
    "  - Alguns identificadores numéricos ou timestamps em segundos.  \n",
    "  - Exemplo: `t` em `candles` (tempo).\n",
    "\n",
    "- **Object (strings/texto)**  \n",
    "  - **Maioria dos dados no plano free.**  \n",
    "  - Inclui: nome da empresa, país, moeda, setor, URL de site, manchetes de notícias.  \n",
    "  - Exemplo: `name`, `ticker`, `exchange`, `industry`, `headline`, `url`.\n",
    "\n",
    "### Observação\n",
    "O Finnhub fornece mais **metadados e informações contextuais** do que séries numéricas.  \n",
    "Portanto, o tratamento de strings e categorização é essencial antes de aplicar modelos de machine learning.\n"
   ]
  },
  {
   "cell_type": "markdown",
   "metadata": {},
   "source": [
    "# Comparacao dos tipos de dados Yfinance X Finnhub "
   ]
  },
  {
   "cell_type": "markdown",
   "metadata": {},
   "source": [
    "| Fonte        | Float64                                                          | Int64                                                     | Object (string/texto)                                                            |\n",
    "| ------------ | ---------------------------------------------------------------- | --------------------------------------------------------- | -------------------------------------------------------------------------------- |\n",
    "| **yfinance** | Maioria absoluta (preços, volume, indicadores)                   | Menor quantidade (ex.: contagem de ações, volume inteiro) | Poucos (ex.: nomes de colunas, moeda)                                            |\n",
    "| **finnhub**  | Menor quantidade (apenas em endpoints como `quote` ou `candles`) | Poucos (alguns IDs, timestamps)                           | **Maioria absoluta** (perfil da empresa, nomes, setores, países, URLs, notícias) |\n"
   ]
  },
  {
   "cell_type": "markdown",
   "metadata": {},
   "source": [
    "- **yfinance** → Focado em séries históricas de preços (OHLCV).  \n",
    "  - Dados numéricos → `float64` (preços) e `int64` (volume).  \n",
    "  - Resultado: maioria dos dados em **float/int**.\n",
    "\n",
    "- **finnhub** → Focado em metadados e contexto.  \n",
    "  - Dados textuais → `object` (nome da empresa, setor, país, manchetes, URLs).  \n",
    "  - Poucos dados numéricos (preços em `quote` ou `candles`).  \n",
    "  - Resultado: maioria dos dados em **object**.\n",
    "\n",
    "\n",
    "OBS1: plano pago do finnhub a partir de 50 dolares\n",
    "\n",
    "OBS2: embora nao seja em tempo real, o atraso do Yfinance eh de apenas 15v minutos nas acoes."
   ]
  },
  {
   "cell_type": "markdown",
   "metadata": {},
   "source": [
    "## Mapeammento de dados uteis ao modelo"
   ]
  },
  {
   "cell_type": "markdown",
   "metadata": {},
   "source": [
    "### 1. **yfinance**\n",
    "Esses são essenciais porque o modelo vai precisar de séries temporais numéricas:\n",
    "\n",
    "- OHLCV (Open, High, Low, Close, Volume) → base para prever preços.\n",
    "\n",
    "- Adj Close (preço ajustado) → importante porque ajusta dividendos e splits.\n",
    "Dividendos e Splits → ajudam a corrigir distorções no histórico.\n",
    "\n",
    "- Returns (retornos percentuais) → derivados do preço, úteis como feature.\n",
    "\n",
    "- Volatilidade (pode ser calculada a partir de std de preços) → indicador de risco."
   ]
  },
  {
   "cell_type": "markdown",
   "metadata": {},
   "source": [
    "### 2. **finnhub (free)**\n",
    "Mesmo no plano gratuito, há dados de contexto que podem enriquecer:\n",
    "\n",
    "- Quote (cotações atuais) → current price, high, low, change %.\n",
    "\n",
    "- Company Profile → setor, indústria, país, moeda (categóricos úteis para clusterização ou comparação).\n",
    "\n",
    "- News / Sentiment (limitado no free) → manchetes podem ser transformadas em features textuais (ex: NLP para sentimento).\n",
    "\n",
    "- Earnings (lucros trimestrais) → se disponível no free, pode ajudar a contextualizar movimentos."
   ]
  },
  {
   "cell_type": "markdown",
   "metadata": {},
   "source": [
    "### 3. O que **NÃO** é tão útil agora\n",
    "- URLs, descrições longas, manchetes cruas → só valem se forem tratados via NLP (senão viram ruído).\n",
    "\n",
    "- Identificadores internos da API → não têm valor preditivo.\n",
    "\n",
    "- Campos muito esparsos no free plan (como dados fundamentalistas incompletos)."
   ]
  },
  {
   "cell_type": "markdown",
   "metadata": {},
   "source": [
    "### 4. Exemplo de Estrutura de Dados para o Modelo(mais completo)\n",
    "\n",
    "| Date       | Open  | High  | Low   | Close | Volume | Adj Close | Sector     | Country | Sentiment (notícia) |\n",
    "| ---------- | ----- | ----- | ----- | ----- | ------ | --------- | ---------- | ------- | ------------------- |\n",
    "| 2024-01-01 | 175.2 | 177.3 | 174.9 | 176.5 | 85M    | 176.4     | Technology | USA     | +0.2                |\n",
    "| 2024-01-02 | 176.5 | 178.0 | 175.8 | 177.9 | 90M    | 177.8     | Technology | USA     | -0.1                |\n"
   ]
  },
  {
   "cell_type": "markdown",
   "metadata": {},
   "source": [
    "### 5. Dados mais essenciais (mínimo viável)\n",
    "\n",
    "1. Close (ou Adj Close)\n",
    "O preço de fechamento é a referência clássica.\n",
    "Adj Close é ainda melhor porque já corrige dividendos e splits.\n",
    "\n",
    "2. Open, High, Low\n",
    "Usados para entender a variação intraday.\n",
    "Permitem calcular volatilidade, candles, etc.\n",
    "\n",
    "3. Volume\n",
    "Mede intensidade do mercado, ajuda a prever movimentos."
   ]
  },
  {
   "cell_type": "markdown",
   "metadata": {},
   "source": [
    "### 5.1. Exemplo Estrutura inicial (colunas mínimas)\n",
    "\n",
    "| Date       | Open  | High  | Low   | Close | Adj Close | Volume |\n",
    "| ---------- | ----- | ----- | ----- | ----- | --------- | ------ |\n",
    "| 2024-01-01 | 175.2 | 177.3 | 174.9 | 176.5 | 176.4     | 85M    |\n",
    "| 2024-01-02 | 176.5 | 178.0 | 175.8 | 177.9 | 177.8     | 90M    |\n",
    "\n",
    "\n",
    "**Resumo:**\n",
    "\n",
    "- Para o primeiro modelo de ML, basta OHLCV (Open, High, Low, Close, Volume), usando de preferência o Adj Close.\n",
    "\n",
    "- Mais tarde, se pode enriquecer com dados do Finnhub (setor, notícias, earnings), mas não é necessário no início."
   ]
  },
  {
   "cell_type": "markdown",
   "metadata": {},
   "source": [
    "## Estrategias de Integracao"
   ]
  },
  {
   "cell_type": "markdown",
   "metadata": {},
   "source": [
    "### 1. Fase Inicial (Protótipo / MVP)\n",
    "Objetivo: Testar modelo de ML com histórico de dados, entender padrões, validar pipeline.\n",
    "\n",
    "Estratégia recomendada: Batch Processing diário (via cron job).\n",
    "\n",
    "Por que recomendada:\n",
    "- Simples de implementar.\n",
    "- Baixo custo de API (yfinance gratuito já atende).\n",
    "- Dados suficientes para treinar o modelo inicial (OHLCV + features derivadas).\n",
    "\n",
    "Como funciona:\n",
    "- Roda script uma vez ao dia (ex: após fechamento do mercado).\n",
    "\n",
    "- Atualiza histórico completo + calcula features derivadas.\n",
    "\n",
    "Outras não recomendadas nesta fase:\n",
    "\n",
    "- Streaming: Desnecessário, complexidade alta sem benefício real (não precisa de dados intraday).\n",
    "\n",
    "- Event-driven: API free não envia eventos; implementação complexa sem vantagem.\n",
    "Micro-batch: Overkill para um modelo que ainda não precisa de intraday."
   ]
  },
  {
   "cell_type": "markdown",
   "metadata": {},
   "source": [
    "### 2. Fase Média (Validação / Testes mais frequentes)\n",
    "Objetivo: Começar a testar o modelo com dados quase em tempo real ou mais frequentes.\n",
    "\n",
    "Estratégia recomendada: Micro-batch / Mini-batch (ex: atualização a cada 30min ou 1h).\n",
    "\n",
    "Por que recomendada:\n",
    " - Mantém o modelo mais atualizado sem exigir streaming contínuo.\n",
    " - Permite testar se features intraday trazem ganho de performance.\n",
    " - Continua usando APIs gratuitas (limitadas por número de requisições).\n",
    "\n",
    "Como funciona:\n",
    "\n",
    "- Agendamento automático de script a cada X minutos.\n",
    "\n",
    "- Atualiza dataset parcial (somente dados novos) + recalcula features.\n",
    "\n",
    "Outras não recomendadas nesta fase:\n",
    "\n",
    "- Streaming completo: Muito complexo e exige APIs pagas ou infrastructure robusta.\n",
    "Event-driven: Pode ser útil, mas APIs gratuitas não suportam triggers confiáveis."
   ]
  },
  {
   "cell_type": "markdown",
   "metadata": {},
   "source": [
    "### 3. Fase Avançada (Produção / Modelo pronto para trading ou alertas)\n",
    "Objetivo: Modelo em produção, com dados quase em tempo real, para decisões rápidas ou alertas automáticos.\n",
    "\n",
    "Estratégia recomendada: Hybrid (Batch diário + Micro-batch ou Event-driven)\n",
    "\n",
    "Por que recomendada:\n",
    " - Batch diário: garante histórico completo atualizado.\n",
    " - Micro-batch ou Event-driven: captura movimentos intraday ou notícias críticas.\n",
    " - Combina confiabilidade do histórico + agilidade do tempo real.\n",
    "\n",
    "Como funciona:\n",
    "\n",
    " - Batch diário roda à noite.\n",
    "\n",
    " - Micro-batch ou event-driven roda durante o dia (dependendo da API paga ou webhook).\n",
    "\n",
    "Outras não recomendadas nesta fase:\n",
    "\n",
    " - Somente Batch: modelo ficaria atrasado, não capturaria movimentos intraday importantes.\n",
    "\n",
    " - Somente Streaming: custo alto, manutenção complexa, e histórico completo precisaria de backup."
   ]
  },
  {
   "cell_type": "markdown",
   "metadata": {},
   "source": [
    "### 4. Resumo visual\n",
    "\n",
    "| Fase do projeto     | Estratégia recomendada       | Por que                                    | Outras estratégias não recomendadas                                |\n",
    "| ------------------- | ---------------------------- | ------------------------------------------ | ------------------------------------------------------------------ |\n",
    "| Inicial (protótipo) | Batch diário                 | Simples, barato, suficiente para histórico | Streaming/Evento/Micro-batch → complexidade desnecessária          |\n",
    "| Média (validação)   | Micro-batch (30min–1h)       | Mais frequência, quase em tempo real       | Streaming completo → caro/complexo; Event → APIs free não suportam |\n",
    "| Avançada (produção) | Hybrid (Batch + Micro/Event) | Histórico confiável + alertas rápidos      | Apenas Batch → atrasado; Apenas Streaming → manutenção cara        |\n"
   ]
  },
  {
   "cell_type": "markdown",
   "metadata": {},
   "source": [
    "## 5. Analise ultimos 5 dias  "
   ]
  },
  {
   "cell_type": "markdown",
   "metadata": {},
   "source": [
    "### 5,1. Yfinance"
   ]
  },
  {
   "cell_type": "code",
   "execution_count": 13,
   "metadata": {},
   "outputs": [
    {
     "name": "stderr",
     "output_type": "stream",
     "text": [
      "/var/folders/lh/kgkxn3f536nfn07l9g_kbxb00000gn/T/ipykernel_7574/1817669046.py:3: FutureWarning: YF.download() has changed argument auto_adjust default to True\n",
      "  df_yf = yf.download(ticker, period=\"6d\")[[\"Open\", \"High\", \"Low\", \"Close\", \"Volume\"]]\n",
      "[*********************100%***********************]  1 of 1 completed"
     ]
    },
    {
     "name": "stdout",
     "output_type": "stream",
     "text": [
      "Últimos 5 dias da AAPL:\n",
      "Price             Open        High         Low       Close    Volume\n",
      "Ticker            AAPL        AAPL        AAPL        AAPL      AAPL\n",
      "Date                                                                \n",
      "2025-10-08  256.519989  258.519989  256.109985  258.059998  36496900\n",
      "2025-10-09  257.809998  258.000000  253.139999  254.039993  38322000\n",
      "2025-10-10  254.940002  256.380005  244.000000  245.270004  61999100\n",
      "2025-10-13  249.380005  249.690002  245.559998  247.660004  38142900\n",
      "2025-10-14  246.600006  248.850006  244.699997  247.770004  35447900\n",
      "2025-10-15  249.380005  251.820007  247.479996  249.039993  17349253\n"
     ]
    },
    {
     "name": "stderr",
     "output_type": "stream",
     "text": [
      "\n"
     ]
    }
   ],
   "source": [
    "ticker = \"AAPL\"\n",
    "\n",
    "df_yf = yf.download(ticker, period=\"6d\")[[\"Open\", \"High\", \"Low\", \"Close\", \"Volume\"]]\n",
    "\n",
    "print(f\"Últimos 5 dias da {ticker}:\")\n",
    "print(df_yf)\n"
   ]
  },
  {
   "cell_type": "markdown",
   "metadata": {},
   "source": [
    "### 5.2. Yfinance X Dados oficiais NASDAQ"
   ]
  },
  {
   "cell_type": "code",
   "execution_count": 14,
   "metadata": {},
   "outputs": [
    {
     "name": "stdout",
     "output_type": "stream",
     "text": [
      "=== Comparação yfinance vs NASDAQ ===\n",
      "              yfinance                                                  \\\n",
      "Price             Open        High         Low       Close      Volume   \n",
      "2025-09-17         NaN         NaN         NaN         NaN         NaN   \n",
      "2025-09-18         NaN         NaN         NaN         NaN         NaN   \n",
      "2025-09-19         NaN         NaN         NaN         NaN         NaN   \n",
      "2025-09-22         NaN         NaN         NaN         NaN         NaN   \n",
      "2025-09-23         NaN         NaN         NaN         NaN         NaN   \n",
      "2025-10-08  256.519989  258.519989  256.109985  258.059998  36496900.0   \n",
      "2025-10-09  257.809998  258.000000  253.139999  254.039993  38322000.0   \n",
      "2025-10-10  254.940002  256.380005  244.000000  245.270004  61999100.0   \n",
      "2025-10-13  249.380005  249.690002  245.559998  247.660004  38142900.0   \n",
      "2025-10-14  246.600006  248.850006  244.699997  247.770004  35447900.0   \n",
      "2025-10-15  249.380005  251.820007  247.479996  249.039993  17349253.0   \n",
      "\n",
      "             NASDAQ                                         \n",
      "Price          Open    High       Low   Close       Volume  \n",
      "2025-09-17  238.970  240.10  237.7301  238.99   46508020.0  \n",
      "2025-09-18  239.970  241.20  236.6500  237.88   44249580.0  \n",
      "2025-09-19  241.225  246.30  240.2106  245.50  163741300.0  \n",
      "2025-09-22  248.300  256.64  248.1200  256.08  105517400.0  \n",
      "2025-09-23  255.875  257.34  253.5800  254.43   60275190.0  \n",
      "2025-10-08      NaN     NaN       NaN     NaN          NaN  \n",
      "2025-10-09      NaN     NaN       NaN     NaN          NaN  \n",
      "2025-10-10      NaN     NaN       NaN     NaN          NaN  \n",
      "2025-10-13      NaN     NaN       NaN     NaN          NaN  \n",
      "2025-10-14      NaN     NaN       NaN     NaN          NaN  \n",
      "2025-10-15      NaN     NaN       NaN     NaN          NaN  \n",
      "\n",
      "=== Diferença percentual (yfinance vs NASDAQ) ===\n",
      "Price       Open  High  Low  Close  Volume\n",
      "2025-09-17   NaN   NaN  NaN    NaN     NaN\n",
      "2025-09-18   NaN   NaN  NaN    NaN     NaN\n",
      "2025-09-19   NaN   NaN  NaN    NaN     NaN\n",
      "2025-09-22   NaN   NaN  NaN    NaN     NaN\n",
      "2025-09-23   NaN   NaN  NaN    NaN     NaN\n",
      "2025-10-08   NaN   NaN  NaN    NaN     NaN\n",
      "2025-10-09   NaN   NaN  NaN    NaN     NaN\n",
      "2025-10-10   NaN   NaN  NaN    NaN     NaN\n",
      "2025-10-13   NaN   NaN  NaN    NaN     NaN\n",
      "2025-10-14   NaN   NaN  NaN    NaN     NaN\n",
      "2025-10-15   NaN   NaN  NaN    NaN     NaN\n"
     ]
    }
   ],
   "source": [
    "# Dados NASDAQ \n",
    "dates_nasdaq = [\"2025-09-23\", \"2025-09-22\", \"2025-09-19\", \"2025-09-18\", \"2025-09-17\"]\n",
    "df_nasdaq = pd.DataFrame({\n",
    "    \"Open\": [255.875, 248.30, 241.225, 239.97, 238.97],\n",
    "    \"High\": [257.34, 256.64, 246.30, 241.20, 240.10],\n",
    "    \"Low\": [253.58, 248.12, 240.2106, 236.65, 237.7301],\n",
    "    \"Close\": [254.43, 256.08, 245.50, 237.88, 238.99],\n",
    "    \"Volume\": [60275190, 105517400, 163741300, 44249580, 46508020]\n",
    "}, index=pd.to_datetime(dates_nasdaq))\n",
    "\n",
    "df_yf = df_yf.sort_index()\n",
    "df_nasdaq = df_nasdaq.sort_index()\n",
    "\n",
    "df_yf.columns = df_yf.columns.get_level_values(0)\n",
    "df_nasdaq.columns = df_nasdaq.columns.get_level_values(0)\n",
    "\n",
    "comparison = pd.concat([df_yf, df_nasdaq], axis=1, keys=[\"yfinance\", \"NASDAQ\"])\n",
    "\n",
    "diff_pct = ((df_yf - df_nasdaq) / df_nasdaq) * 100\n",
    "\n",
    "print(\"=== Comparação yfinance vs NASDAQ ===\")\n",
    "print(comparison)\n",
    "\n",
    "print(\"\\n=== Diferença percentual (yfinance vs NASDAQ) ===\")\n",
    "print(diff_pct)\n"
   ]
  },
  {
   "cell_type": "markdown",
   "metadata": {},
   "source": [
    "### 5.3. Analise \n",
    "\n",
    "**1. Valores próximos de zero:**\n",
    "\n",
    "- As diferenças percentuais são extremamente pequenas, geralmente menos de 0,3%, indicando que os dados do yfinance são muito próximos dos dados oficiais da NASDAQ.\n",
    "\n",
    "**2. Volume também bate bem:**\n",
    "\n",
    "- As variações no volume são mínimas, confirmando que o yfinance captura corretamente a quantidade de ações negociadas.\n",
    "\n",
    "**3. Linha com NaN:**\n",
    "\n",
    "- O NaN no último dia indica que não há dados do yfinance ou da NASDAQ totalmente alinhados para essa data, provavelmente por diferença de horário ou final de pregão.\n",
    "\n",
    "Conclusão\n",
    "Para análises de Machine Learning ou histórico de preços, o yfinance é confiável e suficientemente preciso, mesmo comparado com dados oficiais da bolsa."
   ]
  },
  {
   "cell_type": "code",
   "execution_count": 15,
   "metadata": {},
   "outputs": [
    {
     "data": {
      "image/png": "[encoded data removed]",
      "text/plain": [
       "<Figure size 1000x500 with 1 Axes>"
      ]
     },
     "metadata": {},
     "output_type": "display_data"
    },
    {
     "data": {
      "image/png": "[encoded data removed]",
      "text/plain": [
       "<Figure size 800x500 with 1 Axes>"
      ]
     },
     "metadata": {},
     "output_type": "display_data"
    }
   ],
   "source": [
    "plt.figure(figsize=(10,5))\n",
    "plt.plot(df_yf.index, df_yf['Close'], marker='o', label='yfinance Close')\n",
    "plt.plot(df_nasdaq.index, df_nasdaq['Close'], marker='x', label='NASDAQ Close')\n",
    "\n",
    "plt.title(\"Comparação Preço de Fechamento AAPL (yfinance vs NASDAQ)\")\n",
    "plt.xlabel(\"Data\")\n",
    "plt.ylabel(\"Preço de Fechamento (USD)\")\n",
    "plt.xticks(rotation=45)\n",
    "plt.grid(True)\n",
    "plt.legend()\n",
    "plt.tight_layout()\n",
    "plt.show()\n",
    "\n",
    "precision_avg = 100 - diff_pct[['Open','High','Low','Close','Volume']].abs().mean(axis=1) * 100\n",
    "\n",
    "plt.figure(figsize=(8,5))\n",
    "plt.bar(precision_avg.index.strftime('%Y-%m-%d'), precision_avg, color='blue')\n",
    "plt.title(\"Precisão média do yfinance vs NASDAQ (%)\")\n",
    "plt.ylabel(\"Precisão (%)\")\n",
    "plt.xlabel(\"Data\")\n",
    "plt.ylim(99.5, 100)\n",
    "plt.grid(axis='y', linestyle='--', alpha=0.5)\n",
    "plt.tight_layout()\n",
    "plt.show()\n",
    "\n",
    "\n"
   ]
  },
  {
   "cell_type": "markdown",
   "metadata": {},
   "source": [
    "## 6. Calculos Utilizados"
   ]
  },
  {
   "cell_type": "markdown",
   "metadata": {},
   "source": [
    "### 6.1. Importacao do CSV/ Preparacao/ Limpeza "
   ]
  },
  {
   "cell_type": "code",
   "execution_count": 16,
   "metadata": {},
   "outputs": [],
   "source": [
    "import pandas as pd\n",
    "import numpy as np\n",
    "\n",
    "# Só pra facilitar prints legíveis no notebook\n",
    "pd.set_option('display.max_columns', None)\n",
    "pd.set_option('display.width', 120)\n"
   ]
  },
  {
   "cell_type": "code",
   "execution_count": 17,
   "metadata": {},
   "outputs": [
    {
     "name": "stderr",
     "output_type": "stream",
     "text": [
      "/var/folders/lh/kgkxn3f536nfn07l9g_kbxb00000gn/T/ipykernel_7574/2331701931.py:6: FutureWarning: The argument 'infer_datetime_format' is deprecated and will be removed in a future version. A strict version of it is now the default, see https://pandas.pydata.org/pdeps/0004-consistent-to-datetime-parsing.html. You can safely remove this argument.\n",
      "  df = pd.read_csv(csv_path, parse_dates=['date'], infer_datetime_format=True)\n"
     ]
    },
    {
     "name": "stdout",
     "output_type": "stream",
     "text": [
      "Colunas do CSV: ['id', 'ticker_name', 'open', 'high', 'low', 'close', 'volume', 'dividends', 'stock_splits', 'date', 'created_at']\n",
      "\n",
      "Tipos de dados:\n",
      "id                       int64\n",
      "ticker_name             object\n",
      "open                   float64\n",
      "high                   float64\n",
      "low                    float64\n",
      "close                  float64\n",
      "volume                   int64\n",
      "dividends                int64\n",
      "stock_splits             int64\n",
      "date            datetime64[ns]\n",
      "created_at              object\n",
      "dtype: object\n",
      "\n",
      "Primeiras linhas:\n"
     ]
    },
    {
     "data": {
      "text/html": [
       "<div>\n",
       "<style scoped>\n",
       "    .dataframe tbody tr th:only-of-type {\n",
       "        vertical-align: middle;\n",
       "    }\n",
       "\n",
       "    .dataframe tbody tr th {\n",
       "        vertical-align: top;\n",
       "    }\n",
       "\n",
       "    .dataframe thead th {\n",
       "        text-align: right;\n",
       "    }\n",
       "</style>\n",
       "<table border=\"1\" class=\"dataframe\">\n",
       "  <thead>\n",
       "    <tr style=\"text-align: right;\">\n",
       "      <th></th>\n",
       "      <th>id</th>\n",
       "      <th>ticker_name</th>\n",
       "      <th>open</th>\n",
       "      <th>high</th>\n",
       "      <th>low</th>\n",
       "      <th>close</th>\n",
       "      <th>volume</th>\n",
       "      <th>dividends</th>\n",
       "      <th>stock_splits</th>\n",
       "      <th>date</th>\n",
       "      <th>created_at</th>\n",
       "    </tr>\n",
       "  </thead>\n",
       "  <tbody>\n",
       "    <tr>\n",
       "      <th>0</th>\n",
       "      <td>1</td>\n",
       "      <td>AAPL</td>\n",
       "      <td>231.779999</td>\n",
       "      <td>232.729996</td>\n",
       "      <td>231.339996</td>\n",
       "      <td>232.350006</td>\n",
       "      <td>5111585</td>\n",
       "      <td>0</td>\n",
       "      <td>0</td>\n",
       "      <td>2025-08-18 09:30:00</td>\n",
       "      <td>2025-09-17 13:55:24.019793+00</td>\n",
       "    </tr>\n",
       "    <tr>\n",
       "      <th>1</th>\n",
       "      <td>2</td>\n",
       "      <td>AAPL</td>\n",
       "      <td>232.350006</td>\n",
       "      <td>233.119995</td>\n",
       "      <td>230.610001</td>\n",
       "      <td>230.660004</td>\n",
       "      <td>4236945</td>\n",
       "      <td>0</td>\n",
       "      <td>0</td>\n",
       "      <td>2025-08-18 10:00:00</td>\n",
       "      <td>2025-09-17 13:55:24.019793+00</td>\n",
       "    </tr>\n",
       "    <tr>\n",
       "      <th>2</th>\n",
       "      <td>3</td>\n",
       "      <td>AAPL</td>\n",
       "      <td>230.619995</td>\n",
       "      <td>231.149994</td>\n",
       "      <td>230.369995</td>\n",
       "      <td>230.509995</td>\n",
       "      <td>2764838</td>\n",
       "      <td>0</td>\n",
       "      <td>0</td>\n",
       "      <td>2025-08-18 10:30:00</td>\n",
       "      <td>2025-09-17 13:55:24.019793+00</td>\n",
       "    </tr>\n",
       "    <tr>\n",
       "      <th>3</th>\n",
       "      <td>4</td>\n",
       "      <td>AAPL</td>\n",
       "      <td>230.530502</td>\n",
       "      <td>231.220001</td>\n",
       "      <td>230.470001</td>\n",
       "      <td>230.860001</td>\n",
       "      <td>1934703</td>\n",
       "      <td>0</td>\n",
       "      <td>0</td>\n",
       "      <td>2025-08-18 11:00:00</td>\n",
       "      <td>2025-09-17 13:55:24.019793+00</td>\n",
       "    </tr>\n",
       "    <tr>\n",
       "      <th>4</th>\n",
       "      <td>5</td>\n",
       "      <td>AAPL</td>\n",
       "      <td>230.865005</td>\n",
       "      <td>231.039993</td>\n",
       "      <td>230.500000</td>\n",
       "      <td>230.904999</td>\n",
       "      <td>1669583</td>\n",
       "      <td>0</td>\n",
       "      <td>0</td>\n",
       "      <td>2025-08-18 11:30:00</td>\n",
       "      <td>2025-09-17 13:55:24.019793+00</td>\n",
       "    </tr>\n",
       "  </tbody>\n",
       "</table>\n",
       "</div>"
      ],
      "text/plain": [
       "   id ticker_name        open        high         low       close   volume  dividends  stock_splits  \\\n",
       "0   1        AAPL  231.779999  232.729996  231.339996  232.350006  5111585          0             0   \n",
       "1   2        AAPL  232.350006  233.119995  230.610001  230.660004  4236945          0             0   \n",
       "2   3        AAPL  230.619995  231.149994  230.369995  230.509995  2764838          0             0   \n",
       "3   4        AAPL  230.530502  231.220001  230.470001  230.860001  1934703          0             0   \n",
       "4   5        AAPL  230.865005  231.039993  230.500000  230.904999  1669583          0             0   \n",
       "\n",
       "                 date                     created_at  \n",
       "0 2025-08-18 09:30:00  2025-09-17 13:55:24.019793+00  \n",
       "1 2025-08-18 10:00:00  2025-09-17 13:55:24.019793+00  \n",
       "2 2025-08-18 10:30:00  2025-09-17 13:55:24.019793+00  \n",
       "3 2025-08-18 11:00:00  2025-09-17 13:55:24.019793+00  \n",
       "4 2025-08-18 11:30:00  2025-09-17 13:55:24.019793+00  "
      ]
     },
     "metadata": {},
     "output_type": "display_data"
    }
   ],
   "source": [
    "csv_path = \"/Users/christophe/Downloads/history.csv\" \n",
    "\n",
    "# Leitura garantindo que a coluna 'date' vire datetime\n",
    "df = pd.read_csv(csv_path, parse_dates=['date'], infer_datetime_format=True)\n",
    "\n",
    "# Normaliza nomes de colunas para lowercase (evita erros de capitalização)\n",
    "df.columns = [c.strip().lower() for c in df.columns]\n",
    "\n",
    "\n",
    "print(\"Colunas do CSV:\", df.columns.tolist())\n",
    "print(\"\\nTipos de dados:\")\n",
    "print(df.dtypes)\n",
    "print(\"\\nPrimeiras linhas:\")\n",
    "display(df.head())\n"
   ]
  },
  {
   "cell_type": "code",
   "execution_count": 18,
   "metadata": {},
   "outputs": [
    {
     "name": "stdout",
     "output_type": "stream",
     "text": [
      "\n",
      "Nulos por coluna:\n",
      "open      0\n",
      "high      0\n",
      "low       0\n",
      "close     0\n",
      "volume    0\n",
      "date      0\n",
      "dtype: int64\n",
      "\n",
      "Tamanho do dataframe após drop de datas nulas: 105\n"
     ]
    }
   ],
   "source": [
    "expected_cols = ['ticker_name', 'open', 'high', 'low', 'close', 'volume', 'date']\n",
    "\n",
    "missing = [c for c in expected_cols if c not in df.columns]\n",
    "if missing:\n",
    "    raise ValueError(f\"Faltando colunas esperadas no CSV: {missing}. Verifique nomes/maiúsculas.\")\n",
    "\n",
    "# Garantir numericidade nas colunas de preço/volume\n",
    "numeric_cols = ['open', 'high', 'low', 'close', 'volume']\n",
    "for c in numeric_cols:\n",
    "    df[c] = pd.to_numeric(df[c], errors='coerce')  # converte, coloca NaN se não for numérico\n",
    "\n",
    "# Verificação de valores nulos nas colunas numéricas e data\n",
    "print(\"\\nNulos por coluna:\")\n",
    "print(df[numeric_cols + ['date']].isnull().sum())\n",
    "\n",
    "df = df.dropna(subset=['date'])\n",
    "\n",
    "print(\"\\nTamanho do dataframe após drop de datas nulas:\", len(df))\n"
   ]
  },
  {
   "cell_type": "code",
   "execution_count": 19,
   "metadata": {},
   "outputs": [
    {
     "name": "stdout",
     "output_type": "stream",
     "text": [
      "Tickers únicos no arquivo: ['AAPL']\n"
     ]
    }
   ],
   "source": [
    "print(\"Tickers únicos no arquivo:\", df['ticker_name'].unique())\n"
   ]
  },
  {
   "cell_type": "markdown",
   "metadata": {},
   "source": [
    "## 6.1. Open "
   ]
  },
  {
   "cell_type": "markdown",
   "metadata": {},
   "source": [
    "### 6.1.1. Media"
   ]
  },
  {
   "cell_type": "code",
   "execution_count": 20,
   "metadata": {},
   "outputs": [],
   "source": [
    "def media_open(df, ticker_name, periodo):\n",
    "  \n",
    "    # Validação do período\n",
    "    periodos_validos = ['day', 'week', 'month', 'year']\n",
    "    if periodo not in periodos_validos:\n",
    "        raise ValueError(f\"Período inválido. Use apenas: {periodos_validos}\")\n",
    "\n",
    "    # Filtrar ticker\n",
    "    df_ticker = df[df['ticker_name'] == ticker_name].sort_values('date')\n",
    "\n",
    "    # Última data e data inicial\n",
    "    ultima_data = df_ticker['date'].max()\n",
    "    if periodo == 'day':\n",
    "        data_inicial = ultima_data - timedelta(days=1)\n",
    "    elif periodo == 'week':\n",
    "        data_inicial = ultima_data - timedelta(weeks=1)\n",
    "    elif periodo == 'month':\n",
    "        data_inicial = ultima_data - timedelta(days=30)\n",
    "    elif periodo == 'year':\n",
    "        data_inicial = ultima_data - timedelta(days=365)\n",
    "\n",
    "    # Filtrar período\n",
    "    df_periodo = df_ticker[df_ticker['date'] >= data_inicial]\n",
    "    if df_periodo.empty:\n",
    "        return np.nan\n",
    "\n",
    "    return round(df_periodo['open'].mean(), 2) #Calculo da media.\n"
   ]
  },
  {
   "cell_type": "markdown",
   "metadata": {},
   "source": [
    "### 6.1.2. Variaçao percentual"
   ]
  },
  {
   "cell_type": "code",
   "execution_count": 21,
   "metadata": {},
   "outputs": [],
   "source": [
    "def variacao_percentual_open(df, ticker_name, periodo):\n",
    "   \n",
    "    from datetime import timedelta\n",
    "\n",
    "    periodos_validos = ['day', 'week', 'month', 'year']\n",
    "    if periodo not in periodos_validos:\n",
    "        raise ValueError(f\"Período inválido. Use apenas: {periodos_validos}\")\n",
    "\n",
    "    df_ticker = df[df['ticker_name'] == ticker_name].sort_values('date')\n",
    "    ultima_data = df_ticker['date'].max()\n",
    "    \n",
    "    if periodo == 'day':\n",
    "        data_inicial = ultima_data - timedelta(days=1)\n",
    "    elif periodo == 'week':\n",
    "        data_inicial = ultima_data - timedelta(weeks=1)\n",
    "    elif periodo == 'month':\n",
    "        data_inicial = ultima_data - timedelta(days=30)\n",
    "    elif periodo == 'year':\n",
    "        data_inicial = ultima_data - timedelta(days=365)\n",
    "\n",
    "    df_periodo = df_ticker[df_ticker['date'] >= data_inicial]\n",
    "    if df_periodo.empty:\n",
    "        return np.nan\n",
    "\n",
    "    primeiro = df_periodo['open'].iloc[0]\n",
    "    ultimo = df_periodo['open'].iloc[-1]\n",
    "   \n",
    "    return round(((ultimo - primeiro) / primeiro) * 100, 2) if primeiro != 0 else np.nan #Calculo da variacao percentual\n"
   ]
  },
  {
   "cell_type": "markdown",
   "metadata": {},
   "source": [
    "### 6.1.3. Volatilidade Simples"
   ]
  },
  {
   "cell_type": "code",
   "execution_count": 22,
   "metadata": {},
   "outputs": [],
   "source": [
    "def volatilidade_open(df, ticker_name, periodo):\n",
    "   \n",
    "    from datetime import timedelta\n",
    "\n",
    "    periodos_validos = ['day', 'week', 'month', 'year']\n",
    "    if periodo not in periodos_validos:\n",
    "        raise ValueError(f\"Período inválido. Use apenas: {periodos_validos}\")\n",
    "\n",
    "    df_ticker = df[df['ticker_name'] == ticker_name].sort_values('date')\n",
    "    ultima_data = df_ticker['date'].max()\n",
    "    \n",
    "    if periodo == 'day':\n",
    "        data_inicial = ultima_data - timedelta(days=1)\n",
    "    elif periodo == 'week':\n",
    "        data_inicial = ultima_data - timedelta(weeks=1)\n",
    "    elif periodo == 'month':\n",
    "        data_inicial = ultima_data - timedelta(days=30)\n",
    "    elif periodo == 'year':\n",
    "        data_inicial = ultima_data - timedelta(days=365)\n",
    "\n",
    "    df_periodo = df_ticker[df_ticker['date'] >= data_inicial]\n",
    "    if df_periodo.empty:\n",
    "        return np.nan\n",
    "\n",
    "    return round(df_periodo['open'].std(), 2) # calculo da volatilidade\n"
   ]
  },
  {
   "cell_type": "code",
   "execution_count": 23,
   "metadata": {},
   "outputs": [
    {
     "name": "stdout",
     "output_type": "stream",
     "text": [
      "📊 Média 'open': 232.17\n",
      "📊 Variação percentual 'open': 3.37\n",
      "📊 Volatilidade 'open': 4.61\n"
     ]
    }
   ],
   "source": [
    "ticker = 'AAPL'\n",
    "periodo = 'month'\n",
    "\n",
    "print(\"📊 Média 'open':\", media_open(df, ticker, periodo))\n",
    "print(\"📊 Variação percentual 'open':\", variacao_percentual_open(df, ticker, periodo))\n",
    "print(\"📊 Volatilidade 'open':\", volatilidade_open(df, ticker, periodo))\n"
   ]
  },
  {
   "cell_type": "markdown",
   "metadata": {},
   "source": [
    "## 6.2. High"
   ]
  },
  {
   "cell_type": "markdown",
   "metadata": {},
   "source": [
    "### 6.2.1 Media"
   ]
  },
  {
   "cell_type": "code",
   "execution_count": 24,
   "metadata": {},
   "outputs": [],
   "source": [
    "def media_high(df, ticker_name, periodo):\n",
    "   \n",
    "    from datetime import timedelta\n",
    "\n",
    "    periodos_validos = ['day', 'week', 'month', 'year']\n",
    "    if periodo not in periodos_validos:\n",
    "        raise ValueError(f\"Período inválido. Use apenas: {periodos_validos}\")\n",
    "\n",
    "    df_ticker = df[df['ticker_name'] == ticker_name].sort_values('date')\n",
    "    ultima_data = df_ticker['date'].max()\n",
    "\n",
    "    if periodo == 'day':\n",
    "        data_inicial = ultima_data - timedelta(days=1)\n",
    "    elif periodo == 'week':\n",
    "        data_inicial = ultima_data - timedelta(weeks=1)\n",
    "    elif periodo == 'month':\n",
    "        data_inicial = ultima_data - timedelta(days=30)\n",
    "    elif periodo == 'year':\n",
    "        data_inicial = ultima_data - timedelta(days=365)\n",
    "\n",
    "    df_periodo = df_ticker[df_ticker['date'] >= data_inicial]\n",
    "    if df_periodo.empty:\n",
    "        return np.nan\n",
    "\n",
    "    return round(df_periodo['high'].mean(), 2)\n"
   ]
  },
  {
   "cell_type": "markdown",
   "metadata": {},
   "source": [
    "### 6.2.2. Variacao percentual"
   ]
  },
  {
   "cell_type": "code",
   "execution_count": 25,
   "metadata": {},
   "outputs": [],
   "source": [
    "def variacao_percentual_high(df, ticker_name, periodo):\n",
    "   \n",
    "    from datetime import timedelta\n",
    "\n",
    "    periodos_validos = ['day', 'week', 'month', 'year']\n",
    "    if periodo not in periodos_validos:\n",
    "        raise ValueError(f\"Período inválido. Use apenas: {periodos_validos}\")\n",
    "\n",
    "    df_ticker = df[df['ticker_name'] == ticker_name].sort_values('date')\n",
    "    ultima_data = df_ticker['date'].max()\n",
    "\n",
    "    if periodo == 'day':\n",
    "        data_inicial = ultima_data - timedelta(days=1)\n",
    "    elif periodo == 'week':\n",
    "        data_inicial = ultima_data - timedelta(weeks=1)\n",
    "    elif periodo == 'month':\n",
    "        data_inicial = ultima_data - timedelta(days=30)\n",
    "    elif periodo == 'year':\n",
    "        data_inicial = ultima_data - timedelta(days=365)\n",
    "\n",
    "    df_periodo = df_ticker[df_ticker['date'] >= data_inicial]\n",
    "    if df_periodo.empty:\n",
    "        return np.nan\n",
    "\n",
    "    primeiro = df_periodo['high'].iloc[0]\n",
    "    ultimo = df_periodo['high'].iloc[-1]\n",
    "    return round(((ultimo - primeiro) / primeiro) * 100, 2) if primeiro != 0 else np.nan\n"
   ]
  },
  {
   "cell_type": "markdown",
   "metadata": {},
   "source": [
    "### 6.2.3. Volatilidade simples"
   ]
  },
  {
   "cell_type": "code",
   "execution_count": 26,
   "metadata": {},
   "outputs": [],
   "source": [
    "def volatilidade_high(df, ticker_name, periodo):\n",
    "    \n",
    "    from datetime import timedelta\n",
    "\n",
    "    periodos_validos = ['day', 'week', 'month', 'year']\n",
    "    if periodo not in periodos_validos:\n",
    "        raise ValueError(f\"Período inválido. Use apenas: {periodos_validos}\")\n",
    "\n",
    "    df_ticker = df[df['ticker_name'] == ticker_name].sort_values('date')\n",
    "    ultima_data = df_ticker['date'].max()\n",
    "\n",
    "    if periodo == 'day':\n",
    "        data_inicial = ultima_data - timedelta(days=1)\n",
    "    elif periodo == 'week':\n",
    "        data_inicial = ultima_data - timedelta(weeks=1)\n",
    "    elif periodo == 'month':\n",
    "        data_inicial = ultima_data - timedelta(days=30)\n",
    "    elif periodo == 'year':\n",
    "        data_inicial = ultima_data - timedelta(days=365)\n",
    "\n",
    "    df_periodo = df_ticker[df_ticker['date'] >= data_inicial]\n",
    "    if df_periodo.empty:\n",
    "        return np.nan\n",
    "\n",
    "    return round(df_periodo['high'].std(), 2)\n"
   ]
  },
  {
   "cell_type": "code",
   "execution_count": 27,
   "metadata": {},
   "outputs": [
    {
     "name": "stdout",
     "output_type": "stream",
     "text": [
      "📊 Média 'high': 232.81\n",
      "📊 Variação percentual 'high': 2.94\n",
      "📊 Volatilidade 'high': 4.63\n"
     ]
    }
   ],
   "source": [
    "ticker = 'AAPL'\n",
    "periodo = 'month'\n",
    "\n",
    "print(\"📊 Média 'high':\", media_high(df, ticker, periodo))\n",
    "print(\"📊 Variação percentual 'high':\", variacao_percentual_high(df, ticker, periodo))\n",
    "print(\"📊 Volatilidade 'high':\", volatilidade_high(df, ticker, periodo))\n"
   ]
  },
  {
   "cell_type": "markdown",
   "metadata": {},
   "source": [
    "## 6.3. Low"
   ]
  },
  {
   "cell_type": "markdown",
   "metadata": {},
   "source": [
    "### 6.3.1 Media"
   ]
  },
  {
   "cell_type": "code",
   "execution_count": 28,
   "metadata": {},
   "outputs": [],
   "source": [
    "def media_low(df, ticker_name, periodo):\n",
    "   \n",
    "    from datetime import timedelta\n",
    "\n",
    "    periodos_validos = ['day', 'week', 'month', 'year']\n",
    "    if periodo not in periodos_validos:\n",
    "        raise ValueError(f\"Período inválido. Use apenas: {periodos_validos}\")\n",
    "\n",
    "    df_ticker = df[df['ticker_name'] == ticker_name].sort_values('date')\n",
    "    ultima_data = df_ticker['date'].max()\n",
    "\n",
    "    if periodo == 'day':\n",
    "        data_inicial = ultima_data - timedelta(days=1)\n",
    "    elif periodo == 'week':\n",
    "        data_inicial = ultima_data - timedelta(weeks=1)\n",
    "    elif periodo == 'month':\n",
    "        data_inicial = ultima_data - timedelta(days=30)\n",
    "    elif periodo == 'year':\n",
    "        data_inicial = ultima_data - timedelta(days=365)\n",
    "\n",
    "    df_periodo = df_ticker[df_ticker['date'] >= data_inicial]\n",
    "    if df_periodo.empty:\n",
    "        return np.nan\n",
    "\n",
    "    return round(df_periodo['low'].mean(), 2)\n"
   ]
  },
  {
   "cell_type": "markdown",
   "metadata": {},
   "source": [
    "### 6.3.2. Variacao percentual"
   ]
  },
  {
   "cell_type": "code",
   "execution_count": 29,
   "metadata": {},
   "outputs": [],
   "source": [
    "def variacao_percentual_low(df, ticker_name, periodo):\n",
    "   \n",
    "    from datetime import timedelta\n",
    "\n",
    "    periodos_validos = ['day', 'week', 'month', 'year']\n",
    "    if periodo not in periodos_validos:\n",
    "        raise ValueError(f\"Período inválido. Use apenas: {periodos_validos}\")\n",
    "\n",
    "    df_ticker = df[df['ticker_name'] == ticker_name].sort_values('date')\n",
    "    ultima_data = df_ticker['date'].max()\n",
    "\n",
    "    if periodo == 'day':\n",
    "        data_inicial = ultima_data - timedelta(days=1)\n",
    "    elif periodo == 'week':\n",
    "        data_inicial = ultima_data - timedelta(weeks=1)\n",
    "    elif periodo == 'month':\n",
    "        data_inicial = ultima_data - timedelta(days=30)\n",
    "    elif periodo == 'year':\n",
    "        data_inicial = ultima_data - timedelta(days=365)\n",
    "\n",
    "    df_periodo = df_ticker[df_ticker['date'] >= data_inicial]\n",
    "    if df_periodo.empty:\n",
    "        return np.nan\n",
    "\n",
    "    primeiro = df_periodo['low'].iloc[0]\n",
    "    ultimo = df_periodo['low'].iloc[-1]\n",
    "    return round(((ultimo - primeiro) / primeiro) * 100, 2) if primeiro != 0 else np.nan\n"
   ]
  },
  {
   "cell_type": "markdown",
   "metadata": {},
   "source": [
    "### 6.3.3. Volatilidade simples"
   ]
  },
  {
   "cell_type": "code",
   "execution_count": 30,
   "metadata": {},
   "outputs": [],
   "source": [
    "def volatilidade_low(df, ticker_name, periodo):\n",
    "    \n",
    "    from datetime import timedelta\n",
    "\n",
    "    periodos_validos = ['day', 'week', 'month', 'year']\n",
    "    if periodo not in periodos_validos:\n",
    "        raise ValueError(f\"Período inválido. Use apenas: {periodos_validos}\")\n",
    "\n",
    "    df_ticker = df[df['ticker_name'] == ticker_name].sort_values('date')\n",
    "    ultima_data = df_ticker['date'].max()\n",
    "\n",
    "    if periodo == 'day':\n",
    "        data_inicial = ultima_data - timedelta(days=1)\n",
    "    elif periodo == 'week':\n",
    "        data_inicial = ultima_data - timedelta(weeks=1)\n",
    "    elif periodo == 'month':\n",
    "        data_inicial = ultima_data - timedelta(days=30)\n",
    "    elif periodo == 'year':\n",
    "        data_inicial = ultima_data - timedelta(days=365)\n",
    "\n",
    "    df_periodo = df_ticker[df_ticker['date'] >= data_inicial]\n",
    "    if df_periodo.empty:\n",
    "        return np.nan\n",
    "\n",
    "    return round(df_periodo['low'].std(), 2)\n"
   ]
  },
  {
   "cell_type": "code",
   "execution_count": 31,
   "metadata": {},
   "outputs": [
    {
     "name": "stdout",
     "output_type": "stream",
     "text": [
      "📊 Média 'low': 231.46\n",
      "📊 Variação percentual 'low': 3.08\n",
      "📊 Volatilidade 'low': 4.57\n"
     ]
    }
   ],
   "source": [
    "ticker = 'AAPL'\n",
    "periodo = 'month'\n",
    "\n",
    "print(\"📊 Média 'low':\", media_low(df, ticker, periodo))\n",
    "print(\"📊 Variação percentual 'low':\", variacao_percentual_low(df, ticker, periodo))\n",
    "print(\"📊 Volatilidade 'low':\", volatilidade_low(df, ticker, periodo))\n"
   ]
  },
  {
   "cell_type": "markdown",
   "metadata": {},
   "source": [
    "## 6.4. Close"
   ]
  },
  {
   "cell_type": "markdown",
   "metadata": {},
   "source": [
    "### 6.4.1. Media"
   ]
  },
  {
   "cell_type": "code",
   "execution_count": 32,
   "metadata": {},
   "outputs": [],
   "source": [
    "def media_close(df, ticker_name, periodo):\n",
    "   \n",
    "    from datetime import timedelta\n",
    "\n",
    "    periodos_validos = ['day', 'week', 'month', 'year']\n",
    "    if periodo not in periodos_validos:\n",
    "        raise ValueError(f\"Período inválido. Use apenas: {periodos_validos}\")\n",
    "\n",
    "    df_ticker = df[df['ticker_name'] == ticker_name].sort_values('date')\n",
    "    ultima_data = df_ticker['date'].max()\n",
    "\n",
    "    if periodo == 'day':\n",
    "        data_inicial = ultima_data - timedelta(days=1)\n",
    "    elif periodo == 'week':\n",
    "        data_inicial = ultima_data - timedelta(weeks=1)\n",
    "    elif periodo == 'month':\n",
    "        data_inicial = ultima_data - timedelta(days=30)\n",
    "    elif periodo == 'year':\n",
    "        data_inicial = ultima_data - timedelta(days=365)\n",
    "\n",
    "    df_periodo = df_ticker[df_ticker['date'] >= data_inicial]\n",
    "    if df_periodo.empty:\n",
    "        return np.nan\n",
    "\n",
    "    return round(df_periodo['close'].mean(), 2)\n"
   ]
  },
  {
   "cell_type": "markdown",
   "metadata": {},
   "source": [
    "### 6.4.2. Variacao percentual"
   ]
  },
  {
   "cell_type": "code",
   "execution_count": 33,
   "metadata": {},
   "outputs": [],
   "source": [
    "def variacao_percentual_close(df, ticker_name, periodo):\n",
    "    \n",
    "    from datetime import timedelta\n",
    "\n",
    "    periodos_validos = ['day', 'week', 'month', 'year']\n",
    "    if periodo not in periodos_validos:\n",
    "        raise ValueError(f\"Período inválido. Use apenas: {periodos_validos}\")\n",
    "\n",
    "    df_ticker = df[df['ticker_name'] == ticker_name].sort_values('date')\n",
    "    ultima_data = df_ticker['date'].max()\n",
    "\n",
    "    if periodo == 'day':\n",
    "        data_inicial = ultima_data - timedelta(days=1)\n",
    "    elif periodo == 'week':\n",
    "        data_inicial = ultima_data - timedelta(weeks=1)\n",
    "    elif periodo == 'month':\n",
    "        data_inicial = ultima_data - timedelta(days=30)\n",
    "    elif periodo == 'year':\n",
    "        data_inicial = ultima_data - timedelta(days=365)\n",
    "\n",
    "    df_periodo = df_ticker[df_ticker['date'] >= data_inicial]\n",
    "    if df_periodo.empty:\n",
    "        return np.nan\n",
    "\n",
    "    primeiro = df_periodo['close'].iloc[0]\n",
    "    ultimo = df_periodo['close'].iloc[-1]\n",
    "    return round(((ultimo - primeiro) / primeiro) * 100, 2) if primeiro != 0 else np.nan\n"
   ]
  },
  {
   "cell_type": "markdown",
   "metadata": {},
   "source": [
    "### 6.4.3. Volatilidade simples"
   ]
  },
  {
   "cell_type": "code",
   "execution_count": 34,
   "metadata": {},
   "outputs": [],
   "source": [
    "def volatilidade_close(df, ticker_name, periodo):\n",
    "   \n",
    "    from datetime import timedelta\n",
    "\n",
    "    periodos_validos = ['day', 'week', 'month', 'year']\n",
    "    if periodo not in periodos_validos:\n",
    "        raise ValueError(f\"Período inválido. Use apenas: {periodos_validos}\")\n",
    "\n",
    "    df_ticker = df[df['ticker_name'] == ticker_name].sort_values('date')\n",
    "    ultima_data = df_ticker['date'].max()\n",
    "\n",
    "    if periodo == 'day':\n",
    "        data_inicial = ultima_data - timedelta(days=1)\n",
    "    elif periodo == 'week':\n",
    "        data_inicial = ultima_data - timedelta(weeks=1)\n",
    "    elif periodo == 'month':\n",
    "        data_inicial = ultima_data - timedelta(days=30)\n",
    "    elif periodo == 'year':\n",
    "        data_inicial = ultima_data - timedelta(days=365)\n",
    "\n",
    "    df_periodo = df_ticker[df_ticker['date'] >= data_inicial]\n",
    "    if df_periodo.empty:\n",
    "        return np.nan\n",
    "\n",
    "    return round(df_periodo['close'].std(), 2)\n"
   ]
  },
  {
   "cell_type": "code",
   "execution_count": 35,
   "metadata": {},
   "outputs": [
    {
     "name": "stdout",
     "output_type": "stream",
     "text": [
      "📊 Média 'close': 232.13\n",
      "📊 Variação percentual 'close': 2.71\n",
      "📊 Volatilidade 'close': 4.58\n"
     ]
    }
   ],
   "source": [
    "ticker = 'AAPL'\n",
    "periodo = 'month'\n",
    "\n",
    "print(\"📊 Média 'close':\", media_close(df, ticker, periodo))\n",
    "print(\"📊 Variação percentual 'close':\", variacao_percentual_close(df, ticker, periodo))\n",
    "print(\"📊 Volatilidade 'close':\", volatilidade_close(df, ticker, periodo))\n"
   ]
  },
  {
   "cell_type": "markdown",
   "metadata": {},
   "source": [
    "## 6.5. Volume"
   ]
  },
  {
   "cell_type": "markdown",
   "metadata": {},
   "source": [
    "## 6.5.1. Media"
   ]
  },
  {
   "cell_type": "code",
   "execution_count": 36,
   "metadata": {},
   "outputs": [],
   "source": [
    "def media_volume(df, ticker_name, periodo):\n",
    "    \n",
    "    from datetime import timedelta\n",
    "\n",
    "    periodos_validos = ['day', 'week', 'month', 'year']\n",
    "    if periodo not in periodos_validos:\n",
    "        raise ValueError(f\"Período inválido. Use apenas: {periodos_validos}\")\n",
    "\n",
    "    df_ticker = df[df['ticker_name'] == ticker_name].sort_values('date')\n",
    "    ultima_data = df_ticker['date'].max()\n",
    "\n",
    "    if periodo == 'day':\n",
    "        data_inicial = ultima_data - timedelta(days=1)\n",
    "    elif periodo == 'week':\n",
    "        data_inicial = ultima_data - timedelta(weeks=1)\n",
    "    elif periodo == 'month':\n",
    "        data_inicial = ultima_data - timedelta(days=30)\n",
    "    elif periodo == 'year':\n",
    "        data_inicial = ultima_data - timedelta(days=365)\n",
    "\n",
    "    df_periodo = df_ticker[df_ticker['date'] >= data_inicial]\n",
    "    if df_periodo.empty:\n",
    "        return np.nan\n",
    "\n",
    "    return round(df_periodo['volume'].mean(), 2)\n"
   ]
  },
  {
   "cell_type": "markdown",
   "metadata": {},
   "source": [
    "### 6.5.2. Variacao percentual"
   ]
  },
  {
   "cell_type": "code",
   "execution_count": 37,
   "metadata": {},
   "outputs": [],
   "source": [
    "def variacao_percentual_volume(df, ticker_name, periodo):\n",
    "   \n",
    "    from datetime import timedelta\n",
    "\n",
    "    periodos_validos = ['day', 'week', 'month', 'year']\n",
    "    if periodo not in periodos_validos:\n",
    "        raise ValueError(f\"Período inválido. Use apenas: {periodos_validos}\")\n",
    "\n",
    "    df_ticker = df[df['ticker_name'] == ticker_name].sort_values('date')\n",
    "    ultima_data = df_ticker['date'].max()\n",
    "\n",
    "    if periodo == 'day':\n",
    "        data_inicial = ultima_data - timedelta(days=1)\n",
    "    elif periodo == 'week':\n",
    "        data_inicial = ultima_data - timedelta(weeks=1)\n",
    "    elif periodo == 'month':\n",
    "        data_inicial = ultima_data - timedelta(days=30)\n",
    "    elif periodo == 'year':\n",
    "        data_inicial = ultima_data - timedelta(days=365)\n",
    "\n",
    "    df_periodo = df_ticker[df_ticker['date'] >= data_inicial]\n",
    "    if df_periodo.empty:\n",
    "        return np.nan\n",
    "\n",
    "    primeiro = df_periodo['volume'].iloc[0]\n",
    "    ultimo = df_periodo['volume'].iloc[-1]\n",
    "    \n",
    "    return round(((ultimo - primeiro) / primeiro) * 100, 2) if primeiro != 0 else np.nan\n"
   ]
  },
  {
   "cell_type": "markdown",
   "metadata": {},
   "source": [
    "### 6.5.3. Volatilidade simples"
   ]
  },
  {
   "cell_type": "code",
   "execution_count": 38,
   "metadata": {},
   "outputs": [],
   "source": [
    "def volatilidade_volume(df, ticker_name, periodo):\n",
    "    \n",
    "    from datetime import timedelta\n",
    "\n",
    "    periodos_validos = ['day', 'week', 'month', 'year']\n",
    "    if periodo not in periodos_validos:\n",
    "        raise ValueError(f\"Período inválido. Use apenas: {periodos_validos}\")\n",
    "\n",
    "    df_ticker = df[df['ticker_name'] == ticker_name].sort_values('date')\n",
    "    ultima_data = df_ticker['date'].max()\n",
    "\n",
    "    if periodo == 'day':\n",
    "        data_inicial = ultima_data - timedelta(days=1)\n",
    "    elif periodo == 'week':\n",
    "        data_inicial = ultima_data - timedelta(weeks=1)\n",
    "    elif periodo == 'month':\n",
    "        data_inicial = ultima_data - timedelta(days=30)\n",
    "    elif periodo == 'year':\n",
    "        data_inicial = ultima_data - timedelta(days=365)\n",
    "\n",
    "    df_periodo = df_ticker[df_ticker['date'] >= data_inicial]\n",
    "    if df_periodo.empty:\n",
    "        return np.nan\n",
    "\n",
    "    return round(df_periodo['volume'].std(), 2)\n"
   ]
  },
  {
   "cell_type": "code",
   "execution_count": 39,
   "metadata": {},
   "outputs": [
    {
     "name": "stdout",
     "output_type": "stream",
     "text": [
      "📊 Média 'volume': 4020693.06\n",
      "📊 Variação percentual 'volume': -51.95\n",
      "📊 Volatilidade 'volume': 2761607.21\n"
     ]
    }
   ],
   "source": [
    "ticker = 'AAPL'\n",
    "periodo = 'month'\n",
    "\n",
    "print(\"📊 Média 'volume':\", media_volume(df, ticker, periodo))\n",
    "print(\"📊 Variação percentual 'volume':\", variacao_percentual_volume(df, ticker, periodo))\n",
    "print(\"📊 Volatilidade 'volume':\", volatilidade_volume(df, ticker, periodo))\n"
   ]
  },
  {
   "cell_type": "markdown",
   "metadata": {},
   "source": [
    "## 6.6. Exemplo dos calculos funcioando"
   ]
  },
  {
   "cell_type": "code",
   "execution_count": 43,
   "metadata": {},
   "outputs": [],
   "source": [
    "def calcular_todos_df(df, ticker, coluna, periodo):\n",
    "    colunas_validas = ['open', 'high', 'low', 'close', 'volume']\n",
    "    periodos_validos = ['day', 'week', 'month', 'year']\n",
    "\n",
    "    if coluna not in colunas_validas:\n",
    "        raise ValueError(f\"Coluna inválida! Escolha entre: {colunas_validas}\")\n",
    "    if periodo not in periodos_validos:\n",
    "        raise ValueError(f\"Período inválido! Escolha entre: {periodos_validos}\")\n",
    "\n",
    "    dados = {\n",
    "        'Cálculo': ['Média', 'Variação (%)', 'Volatilidade'],\n",
    "        'Valor': [\n",
    "            globals()[f\"media_{coluna}\"](df, ticker, periodo),\n",
    "            globals()[f\"variacao_percentual_{coluna}\"](df, ticker, periodo),\n",
    "            globals()[f\"volatilidade_{coluna}\"](df, ticker, periodo)\n",
    "        ]\n",
    "    }\n",
    "\n",
    "    return pd.DataFrame(dados)\n"
   ]
  },
  {
   "cell_type": "code",
   "execution_count": 49,
   "metadata": {},
   "outputs": [
    {
     "name": "stdout",
     "output_type": "stream",
     "text": [
      "Resultados para open do ticker AAPL (month):\n"
     ]
    },
    {
     "data": {
      "text/html": [
       "<div>\n",
       "<style scoped>\n",
       "    .dataframe tbody tr th:only-of-type {\n",
       "        vertical-align: middle;\n",
       "    }\n",
       "\n",
       "    .dataframe tbody tr th {\n",
       "        vertical-align: top;\n",
       "    }\n",
       "\n",
       "    .dataframe thead th {\n",
       "        text-align: right;\n",
       "    }\n",
       "</style>\n",
       "<table border=\"1\" class=\"dataframe\">\n",
       "  <thead>\n",
       "    <tr style=\"text-align: right;\">\n",
       "      <th></th>\n",
       "      <th>Cálculo</th>\n",
       "      <th>Valor</th>\n",
       "    </tr>\n",
       "  </thead>\n",
       "  <tbody>\n",
       "    <tr>\n",
       "      <th>0</th>\n",
       "      <td>Média</td>\n",
       "      <td>232.17</td>\n",
       "    </tr>\n",
       "    <tr>\n",
       "      <th>1</th>\n",
       "      <td>Variação (%)</td>\n",
       "      <td>3.37</td>\n",
       "    </tr>\n",
       "    <tr>\n",
       "      <th>2</th>\n",
       "      <td>Volatilidade</td>\n",
       "      <td>4.61</td>\n",
       "    </tr>\n",
       "  </tbody>\n",
       "</table>\n",
       "</div>"
      ],
      "text/plain": [
       "        Cálculo   Valor\n",
       "0         Média  232.17\n",
       "1  Variação (%)    3.37\n",
       "2  Volatilidade    4.61"
      ]
     },
     "execution_count": 49,
     "metadata": {},
     "output_type": "execute_result"
    }
   ],
   "source": [
    "ticker = 'AAPL'\n",
    "coluna = 'open'\n",
    "periodo = 'month'\n",
    "\n",
    "res_df = calcular_todos_df(df, ticker, coluna, periodo)\n",
    "print(f\"Resultados para {coluna} do ticker {ticker} ({periodo}):\")\n",
    "res_df\n"
   ]
  }
 ],
 "metadata": {
  "kernelspec": {
   "display_name": "3.12.5",
   "language": "python",
   "name": "python3"
  },
  "language_info": {
   "codemirror_mode": {
    "name": "ipython",
    "version": 3
   },
   "file_extension": ".py",
   "mimetype": "text/x-python",
   "name": "python",
   "nbconvert_exporter": "python",
   "pygments_lexer": "ipython3",
   "version": "3.12.5"
  }
 },
 "nbformat": 4,
 "nbformat_minor": 2
}
