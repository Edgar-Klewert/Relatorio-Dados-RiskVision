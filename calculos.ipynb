{
 "cells": [
  {
   "cell_type": "markdown",
   "metadata": {},
   "source": [
    "# Calculos Necessarios"
   ]
  },
  {
   "cell_type": "markdown",
   "metadata": {},
   "source": [
    "## 1. Importacao/Limpeza/Preparacao"
   ]
  },
  {
   "cell_type": "code",
   "execution_count": 9,
   "metadata": {},
   "outputs": [],
   "source": [
    "import pandas as pd\n",
    "import numpy as np\n",
    "\n",
    "# Só pra facilitar prints legíveis no notebook\n",
    "pd.set_option('display.max_columns', None)\n",
    "pd.set_option('display.width', 120)\n"
   ]
  },
  {
   "cell_type": "code",
   "execution_count": 10,
   "metadata": {},
   "outputs": [
    {
     "name": "stdout",
     "output_type": "stream",
     "text": [
      "Colunas do CSV: ['id', 'ticker_name', 'open', 'high', 'low', 'close', 'volume', 'dividends', 'stock_splits', 'date', 'created_at']\n",
      "\n",
      "Tipos de dados:\n",
      "id                       int64\n",
      "ticker_name             object\n",
      "open                   float64\n",
      "high                   float64\n",
      "low                    float64\n",
      "close                  float64\n",
      "volume                   int64\n",
      "dividends                int64\n",
      "stock_splits             int64\n",
      "date            datetime64[ns]\n",
      "created_at              object\n",
      "dtype: object\n",
      "\n",
      "Primeiras linhas:\n"
     ]
    },
    {
     "name": "stderr",
     "output_type": "stream",
     "text": [
      "/var/folders/lh/kgkxn3f536nfn07l9g_kbxb00000gn/T/ipykernel_10181/2451931521.py:4: FutureWarning: The argument 'infer_datetime_format' is deprecated and will be removed in a future version. A strict version of it is now the default, see https://pandas.pydata.org/pdeps/0004-consistent-to-datetime-parsing.html. You can safely remove this argument.\n",
      "  df = pd.read_csv(csv_path, parse_dates=['date'], infer_datetime_format=True)\n"
     ]
    },
    {
     "data": {
      "text/html": [
       "<div>\n",
       "<style scoped>\n",
       "    .dataframe tbody tr th:only-of-type {\n",
       "        vertical-align: middle;\n",
       "    }\n",
       "\n",
       "    .dataframe tbody tr th {\n",
       "        vertical-align: top;\n",
       "    }\n",
       "\n",
       "    .dataframe thead th {\n",
       "        text-align: right;\n",
       "    }\n",
       "</style>\n",
       "<table border=\"1\" class=\"dataframe\">\n",
       "  <thead>\n",
       "    <tr style=\"text-align: right;\">\n",
       "      <th></th>\n",
       "      <th>id</th>\n",
       "      <th>ticker_name</th>\n",
       "      <th>open</th>\n",
       "      <th>high</th>\n",
       "      <th>low</th>\n",
       "      <th>close</th>\n",
       "      <th>volume</th>\n",
       "      <th>dividends</th>\n",
       "      <th>stock_splits</th>\n",
       "      <th>date</th>\n",
       "      <th>created_at</th>\n",
       "    </tr>\n",
       "  </thead>\n",
       "  <tbody>\n",
       "    <tr>\n",
       "      <th>0</th>\n",
       "      <td>1</td>\n",
       "      <td>AAPL</td>\n",
       "      <td>231.779999</td>\n",
       "      <td>232.729996</td>\n",
       "      <td>231.339996</td>\n",
       "      <td>232.350006</td>\n",
       "      <td>5111585</td>\n",
       "      <td>0</td>\n",
       "      <td>0</td>\n",
       "      <td>2025-08-18 09:30:00</td>\n",
       "      <td>2025-09-17 13:55:24.019793+00</td>\n",
       "    </tr>\n",
       "    <tr>\n",
       "      <th>1</th>\n",
       "      <td>2</td>\n",
       "      <td>AAPL</td>\n",
       "      <td>232.350006</td>\n",
       "      <td>233.119995</td>\n",
       "      <td>230.610001</td>\n",
       "      <td>230.660004</td>\n",
       "      <td>4236945</td>\n",
       "      <td>0</td>\n",
       "      <td>0</td>\n",
       "      <td>2025-08-18 10:00:00</td>\n",
       "      <td>2025-09-17 13:55:24.019793+00</td>\n",
       "    </tr>\n",
       "    <tr>\n",
       "      <th>2</th>\n",
       "      <td>3</td>\n",
       "      <td>AAPL</td>\n",
       "      <td>230.619995</td>\n",
       "      <td>231.149994</td>\n",
       "      <td>230.369995</td>\n",
       "      <td>230.509995</td>\n",
       "      <td>2764838</td>\n",
       "      <td>0</td>\n",
       "      <td>0</td>\n",
       "      <td>2025-08-18 10:30:00</td>\n",
       "      <td>2025-09-17 13:55:24.019793+00</td>\n",
       "    </tr>\n",
       "    <tr>\n",
       "      <th>3</th>\n",
       "      <td>4</td>\n",
       "      <td>AAPL</td>\n",
       "      <td>230.530502</td>\n",
       "      <td>231.220001</td>\n",
       "      <td>230.470001</td>\n",
       "      <td>230.860001</td>\n",
       "      <td>1934703</td>\n",
       "      <td>0</td>\n",
       "      <td>0</td>\n",
       "      <td>2025-08-18 11:00:00</td>\n",
       "      <td>2025-09-17 13:55:24.019793+00</td>\n",
       "    </tr>\n",
       "    <tr>\n",
       "      <th>4</th>\n",
       "      <td>5</td>\n",
       "      <td>AAPL</td>\n",
       "      <td>230.865005</td>\n",
       "      <td>231.039993</td>\n",
       "      <td>230.500000</td>\n",
       "      <td>230.904999</td>\n",
       "      <td>1669583</td>\n",
       "      <td>0</td>\n",
       "      <td>0</td>\n",
       "      <td>2025-08-18 11:30:00</td>\n",
       "      <td>2025-09-17 13:55:24.019793+00</td>\n",
       "    </tr>\n",
       "  </tbody>\n",
       "</table>\n",
       "</div>"
      ],
      "text/plain": [
       "   id ticker_name        open        high         low       close   volume  dividends  stock_splits  \\\n",
       "0   1        AAPL  231.779999  232.729996  231.339996  232.350006  5111585          0             0   \n",
       "1   2        AAPL  232.350006  233.119995  230.610001  230.660004  4236945          0             0   \n",
       "2   3        AAPL  230.619995  231.149994  230.369995  230.509995  2764838          0             0   \n",
       "3   4        AAPL  230.530502  231.220001  230.470001  230.860001  1934703          0             0   \n",
       "4   5        AAPL  230.865005  231.039993  230.500000  230.904999  1669583          0             0   \n",
       "\n",
       "                 date                     created_at  \n",
       "0 2025-08-18 09:30:00  2025-09-17 13:55:24.019793+00  \n",
       "1 2025-08-18 10:00:00  2025-09-17 13:55:24.019793+00  \n",
       "2 2025-08-18 10:30:00  2025-09-17 13:55:24.019793+00  \n",
       "3 2025-08-18 11:00:00  2025-09-17 13:55:24.019793+00  \n",
       "4 2025-08-18 11:30:00  2025-09-17 13:55:24.019793+00  "
      ]
     },
     "metadata": {},
     "output_type": "display_data"
    }
   ],
   "source": [
    "csv_path = \"/Users/christophe/Downloads/history.csv\" \n",
    "\n",
    "# Leitura garantindo que a coluna 'date' vire datetime\n",
    "df = pd.read_csv(csv_path, parse_dates=['date'], infer_datetime_format=True)\n",
    "\n",
    "# Normaliza nomes de colunas para lowercase (evita erros de capitalização)\n",
    "df.columns = [c.strip().lower() for c in df.columns]\n",
    "\n",
    "\n",
    "print(\"Colunas do CSV:\", df.columns.tolist())\n",
    "print(\"\\nTipos de dados:\")\n",
    "print(df.dtypes)\n",
    "print(\"\\nPrimeiras linhas:\")\n",
    "display(df.head())\n"
   ]
  },
  {
   "cell_type": "code",
   "execution_count": 11,
   "metadata": {},
   "outputs": [
    {
     "name": "stdout",
     "output_type": "stream",
     "text": [
      "\n",
      "Nulos por coluna:\n",
      "open      0\n",
      "high      0\n",
      "low       0\n",
      "close     0\n",
      "volume    0\n",
      "date      0\n",
      "dtype: int64\n",
      "\n",
      "Tamanho do dataframe após drop de datas nulas: 105\n"
     ]
    }
   ],
   "source": [
    "expected_cols = ['ticker_name', 'open', 'high', 'low', 'close', 'volume', 'date']\n",
    "\n",
    "missing = [c for c in expected_cols if c not in df.columns]\n",
    "if missing:\n",
    "    raise ValueError(f\"Faltando colunas esperadas no CSV: {missing}. Verifique nomes/maiúsculas.\")\n",
    "\n",
    "# Garantir numericidade nas colunas de preço/volume\n",
    "numeric_cols = ['open', 'high', 'low', 'close', 'volume']\n",
    "for c in numeric_cols:\n",
    "    df[c] = pd.to_numeric(df[c], errors='coerce')  # converte, coloca NaN se não for numérico\n",
    "\n",
    "# Verificação de valores nulos nas colunas numéricas e data\n",
    "print(\"\\nNulos por coluna:\")\n",
    "print(df[numeric_cols + ['date']].isnull().sum())\n",
    "\n",
    "df = df.dropna(subset=['date'])\n",
    "\n",
    "print(\"\\nTamanho do dataframe após drop de datas nulas:\", len(df))\n"
   ]
  },
  {
   "cell_type": "code",
   "execution_count": 12,
   "metadata": {},
   "outputs": [
    {
     "name": "stdout",
     "output_type": "stream",
     "text": [
      "Tickers únicos no arquivo: ['AAPL']\n"
     ]
    }
   ],
   "source": [
    "print(\"Tickers únicos no arquivo:\", df['ticker_name'].unique())\n"
   ]
  },
  {
   "cell_type": "markdown",
   "metadata": {},
   "source": [
    "## 2. Calculos separados"
   ]
  },
  {
   "cell_type": "markdown",
   "metadata": {},
   "source": [
    "### 2.1. Media"
   ]
  },
  {
   "cell_type": "code",
   "execution_count": 13,
   "metadata": {},
   "outputs": [],
   "source": [
    "def calcular_media(df, ticker, coluna, periodo):\n",
    "    colunas_validas = ['open', 'high', 'low', 'close', 'volume']\n",
    "    periodos_validos = ['day', 'week', 'month', 'year']\n",
    "\n",
    "    if coluna not in colunas_validas:\n",
    "        raise ValueError(f\"Coluna inválida! Escolha entre: {colunas_validas}\")\n",
    "    if periodo not in periodos_validos:\n",
    "        raise ValueError(f\"Período inválido! Escolha entre: {periodos_validos}\")\n",
    "\n",
    "    # Filtrar o ticker\n",
    "    df_ticker = df[df['ticker_name'] == ticker].copy()\n",
    "    df_ticker['date'] = pd.to_datetime(df_ticker['date'])\n",
    "    ultima_data = df_ticker['date'].max()\n",
    "\n",
    "    # Determinar o intervalo\n",
    "    if periodo == 'day':\n",
    "        data_inicial = ultima_data - pd.Timedelta(days=1)\n",
    "    elif periodo == 'week':\n",
    "        data_inicial = ultima_data - pd.Timedelta(weeks=1)\n",
    "    elif periodo == 'month':\n",
    "        data_inicial = ultima_data - pd.DateOffset(months=1)\n",
    "    else:  # year\n",
    "        data_inicial = ultima_data - pd.DateOffset(years=1)\n",
    "\n",
    "    df_periodo = df_ticker[df_ticker['date'] >= data_inicial]\n",
    "\n",
    "    return round(df_periodo[coluna].mean(), 2) #Calculo da media\n"
   ]
  },
  {
   "cell_type": "markdown",
   "metadata": {},
   "source": [
    "### 2.2. Variacao percentual"
   ]
  },
  {
   "cell_type": "code",
   "execution_count": 14,
   "metadata": {},
   "outputs": [],
   "source": [
    "def calcular_variacao(df, ticker, coluna, periodo):\n",
    "    \n",
    "    colunas_validas = ['open', 'high', 'low', 'close', 'volume']\n",
    "    periodos_validos = ['day', 'week', 'month', 'year']\n",
    "\n",
    "    if coluna not in colunas_validas:\n",
    "        raise ValueError(f\"Coluna inválida! Escolha entre: {colunas_validas}\")\n",
    "    if periodo not in periodos_validos:\n",
    "        raise ValueError(f\"Período inválido! Escolha entre: {periodos_validos}\")\n",
    "\n",
    "    df_ticker = df[df['ticker_name'] == ticker].copy()\n",
    "    df_ticker['date'] = pd.to_datetime(df_ticker['date'])\n",
    "    ultima_data = df_ticker['date'].max()\n",
    "\n",
    "    if periodo == 'day':\n",
    "        data_inicial = ultima_data - pd.Timedelta(days=1)\n",
    "    elif periodo == 'week':\n",
    "        data_inicial = ultima_data - pd.Timedelta(weeks=1)\n",
    "    elif periodo == 'month':\n",
    "        data_inicial = ultima_data - pd.DateOffset(months=1)\n",
    "    else:\n",
    "        data_inicial = ultima_data - pd.DateOffset(years=1)\n",
    "\n",
    "    df_periodo = df_ticker[df_ticker['date'] >= data_inicial].sort_values('date')\n",
    "\n",
    "    if df_periodo.empty:\n",
    "        return None\n",
    "\n",
    "    primeiro = df_periodo[coluna].iloc[0]\n",
    "    ultimo = df_periodo[coluna].iloc[-1]\n",
    "\n",
    "    return round(((ultimo - primeiro) / primeiro) * 100, 2) if primeiro != 0 else None #Calculo da variacao\n"
   ]
  },
  {
   "cell_type": "markdown",
   "metadata": {},
   "source": [
    "### 2.3. Volatilidade Simples"
   ]
  },
  {
   "cell_type": "code",
   "execution_count": 15,
   "metadata": {},
   "outputs": [],
   "source": [
    "def calcular_volatilidade(df, ticker, coluna, periodo):\n",
    "   \n",
    "    colunas_validas = ['open', 'high', 'low', 'close', 'volume']\n",
    "    periodos_validos = ['day', 'week', 'month', 'year']\n",
    "\n",
    "    if coluna not in colunas_validas:\n",
    "        raise ValueError(f\"Coluna inválida! Escolha entre: {colunas_validas}\")\n",
    "    if periodo not in periodos_validos:\n",
    "        raise ValueError(f\"Período inválido! Escolha entre: {periodos_validos}\")\n",
    "\n",
    "    df_ticker = df[df['ticker_name'] == ticker].copy()\n",
    "    df_ticker['date'] = pd.to_datetime(df_ticker['date'])\n",
    "    ultima_data = df_ticker['date'].max()\n",
    "\n",
    "    if periodo == 'day':\n",
    "        data_inicial = ultima_data - pd.Timedelta(days=1)\n",
    "    elif periodo == 'week':\n",
    "        data_inicial = ultima_data - pd.Timedelta(weeks=1)\n",
    "    elif periodo == 'month':\n",
    "        data_inicial = ultima_data - pd.DateOffset(months=1)\n",
    "    else:\n",
    "        data_inicial = ultima_data - pd.DateOffset(years=1)\n",
    "\n",
    "    df_periodo = df_ticker[df_ticker['date'] >= data_inicial]\n",
    "\n",
    "    return round(df_periodo[coluna].std(), 2) #Calculo da volatilidade\n"
   ]
  },
  {
   "cell_type": "code",
   "execution_count": 16,
   "metadata": {},
   "outputs": [
    {
     "name": "stdout",
     "output_type": "stream",
     "text": [
      "Média (close): 232.13\n",
      "Variação percentual (close): 2.71\n",
      "Volatilidade (close): 4.58\n"
     ]
    }
   ],
   "source": [
    "ticker = 'AAPL'\n",
    "coluna = 'close'\n",
    "periodo = 'month'\n",
    "\n",
    "print(f\"Média ({coluna}):\", calcular_media(df, ticker, coluna, periodo))\n",
    "print(f\"Variação percentual ({coluna}):\", calcular_variacao(df, ticker, coluna, periodo))\n",
    "print(f\"Volatilidade ({coluna}):\", calcular_volatilidade(df, ticker, coluna, periodo))\n"
   ]
  },
  {
   "cell_type": "markdown",
   "metadata": {},
   "source": [
    "## 3. Mesmo calculo para todas as colunas"
   ]
  },
  {
   "cell_type": "code",
   "execution_count": 19,
   "metadata": {},
   "outputs": [],
   "source": [
    "def analisar_todas_colunas(df, ticker, periodo):\n",
    "    # 🔹 Filtra o ticker\n",
    "    df_ticker = df[df['ticker_name'] == ticker].copy()\n",
    "    df_ticker['date'] = pd.to_datetime(df_ticker['date'])\n",
    "    \n",
    "    ultima_data = df_ticker['date'].max()\n",
    "\n",
    "    if periodo == 'day':\n",
    "        data_inicial = ultima_data - pd.Timedelta(days=1)\n",
    "    elif periodo == 'week':\n",
    "        data_inicial = ultima_data - pd.Timedelta(weeks=1)\n",
    "    elif periodo == 'month':\n",
    "        data_inicial = ultima_data - pd.DateOffset(months=1)\n",
    "    elif periodo == 'year':\n",
    "        data_inicial = ultima_data - pd.DateOffset(years=1)\n",
    "    else:\n",
    "        raise ValueError(\"Período inválido! Escolha entre: 'day', 'week', 'month', 'year'.\")\n",
    "\n",
    "    # 🔹 Filtra o período\n",
    "    df_periodo = df_ticker[df_ticker['date'] >= data_inicial]\n",
    "\n",
    " \n",
    "    colunas = ['open', 'high', 'low', 'close', 'volume']\n",
    "\n",
    "    print(f\"\\n📊 Resultados para {ticker} — Período: {periodo}\\n\")\n",
    "\n",
    "    # 🔹 Calcula para cada coluna\n",
    "    for coluna in colunas:\n",
    "        media = round(df_periodo[coluna].mean(), 2)\n",
    "        primeiro = df_periodo[coluna].iloc[0]\n",
    "        ultimo = df_periodo[coluna].iloc[-1]\n",
    "        variacao = round(((ultimo - primeiro) / primeiro) * 100, 2) if primeiro != 0 else np.nan\n",
    "        volatilidade = round(df_periodo[coluna].std(), 2)\n",
    "\n",
    "        print(f\"{coluna}:\")\n",
    "        print(f\"  Média: {media}\")\n",
    "        print(f\"  Variação %: {variacao}\")\n",
    "        print(f\"  Volatilidade: {volatilidade}\\n\")\n"
   ]
  },
  {
   "cell_type": "code",
   "execution_count": 28,
   "metadata": {},
   "outputs": [
    {
     "name": "stdout",
     "output_type": "stream",
     "text": [
      "\n",
      "📊 Resultados para AAPL — Período: month\n",
      "\n",
      "open:\n",
      "  Média: 232.17\n",
      "  Variação %: 3.37\n",
      "  Volatilidade: 4.61\n",
      "\n",
      "high:\n",
      "  Média: 232.81\n",
      "  Variação %: 2.94\n",
      "  Volatilidade: 4.63\n",
      "\n",
      "low:\n",
      "  Média: 231.46\n",
      "  Variação %: 3.08\n",
      "  Volatilidade: 4.57\n",
      "\n",
      "close:\n",
      "  Média: 232.13\n",
      "  Variação %: 2.71\n",
      "  Volatilidade: 4.58\n",
      "\n",
      "volume:\n",
      "  Média: 4020693.06\n",
      "  Variação %: -51.95\n",
      "  Volatilidade: 2761607.21\n",
      "\n"
     ]
    }
   ],
   "source": [
    "analisar_todas_colunas(df, ticker='AAPL', periodo='month')\n"
   ]
  }
 ],
 "metadata": {
  "kernelspec": {
   "display_name": "3.12.5",
   "language": "python",
   "name": "python3"
  },
  "language_info": {
   "codemirror_mode": {
    "name": "ipython",
    "version": 3
   },
   "file_extension": ".py",
   "mimetype": "text/x-python",
   "name": "python",
   "nbconvert_exporter": "python",
   "pygments_lexer": "ipython3",
   "version": "3.12.5"
  }
 },
 "nbformat": 4,
 "nbformat_minor": 2
}
